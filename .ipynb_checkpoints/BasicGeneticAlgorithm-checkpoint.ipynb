{
 "cells": [
  {
   "cell_type": "markdown",
   "metadata": {},
   "source": [
    "### Natural Algorithms Genetic algorithm\n"
   ]
  },
  {
   "cell_type": "code",
   "execution_count": 1,
   "metadata": {},
   "outputs": [],
   "source": [
    "import pandas as pd\n",
    "import numpy as np\n",
    "import random\n",
    "import csv"
   ]
  },
  {
   "cell_type": "code",
   "execution_count": null,
   "metadata": {},
   "outputs": [],
   "source": [
    "eingabe = input(\"Welche benchmark soll laufen? \")\n",
    "\n",
    "with open(eingabe + \".csv\") as f:\n",
    "    reader = csv.reader(f)\n",
    "    next(reader) # skip header\n",
    "    values = []\n",
    "    for row in reader:\n",
    "        values.append(row)\n",
    "\n",
    "eingabe = eingabe.split(\"_\")\n",
    "\n",
    "machinecount = int(eingabe[1])\n",
    "jobcount = int(eingabe[2])\n"
   ]
  },
  {
   "cell_type": "code",
   "execution_count": null,
   "metadata": {},
   "outputs": [],
   "source": [
    "population = initialize()\n",
    "while terminationcondition:\n",
    "    mating_pool = population.select()\n",
    "    offspring = mating_pool.recombine()\n",
    "    population = replace(population, offspring)\n",
    "    \n",
    "while terminationcondition\n",
    "return best(population)"
   ]
  },
  {
   "cell_type": "code",
   "execution_count": null,
   "metadata": {},
   "outputs": [],
   "source": [
    "def getMax(state, values):\n",
    "    for machine, job in zip(state, range(len(state))):\n",
    "\n",
    "        machinevalues[machine] += values[job]\n",
    "\n",
    "    return max(machinevalues)"
   ]
  },
  {
   "cell_type": "code",
   "execution_count": null,
   "metadata": {
    "scrolled": false
   },
   "outputs": [],
   "source": [
    "#def initialize_random(machinecount, jobcount):\n",
    "# initialize empty list which represents the chromosome\n",
    "jobs = []\n",
    "# assign a random machine to each job    \n",
    "for job in range(jobcount):\n",
    "    jobs.append(random.randint(1,machinecount))\n",
    "    \n",
    "print(jobs)     \n",
    "#return jobs"
   ]
  },
  {
   "cell_type": "code",
   "execution_count": null,
   "metadata": {},
   "outputs": [],
   "source": [
    "#def initialize_extreme(machinecount, jobcount)\n",
    "# initialize empty list which represents chromosome\n",
    "jobs = []\n",
    "# assign the same machine to every job\n",
    "machine = random.randint(1,machinecount)\n",
    "for job in range(jobcount):\n",
    "    jobs.append(machine)\n",
    "\n",
    "print(jobs)\n",
    "#return jobs"
   ]
  },
  {
   "cell_type": "code",
   "execution_count": null,
   "metadata": {
    "scrolled": true
   },
   "outputs": [],
   "source": [
    "# This method initializes a heuristic chromosome.\n",
    "# We use the ratio between jobs/machines to assign every machine to a nearly identical number of jobs.\n",
    "# If we assume that all jobs need the same processing time, this would already yield a nearly perfect solution.\n",
    "\n",
    "#def initialize_heuristic(machinecount, jobcount)\n",
    "\n",
    "jobs = []\n",
    "machines = []\n",
    "not_heuristic = True\n",
    "\n",
    "#create list that serves to count how many jobs a machine is assigned to\n",
    "for machine in range(machinecount):\n",
    "    machines.append(0)\n",
    "    \n",
    "ratio = int(jobcount/machinecount)\n",
    "\n",
    "#assign a random machine to each job and count how often each machine is assigned\n",
    "for job in range(jobcount):\n",
    "    machine = random.randint(0,machinecount-1)\n",
    "    jobs.append(machine)\n",
    "    machines[machine] += 1\n",
    "\n",
    "print(machines)\n",
    "\n",
    "#change the machine assignment such that every machine is assigned a nearly identical number of jobs\n",
    "while not_heuristic:\n",
    "    #i is used to count machines that dont have enough jobs assigned to them, given by the ratio\n",
    "    i = 0\n",
    "    #used as machine index\n",
    "    machine = 0\n",
    "    \n",
    "    #check for every machine\n",
    "    for counter in machines:\n",
    "        #if it has enough jobs assigned, given by the ratio\n",
    "        if counter < ratio:\n",
    "            #if it doesnt, we assign it to one more random job \n",
    "            jobs[random.randint(0,jobcount-1)] = machine\n",
    "            i += 1     \n",
    "        machine += 1\n",
    "        \n",
    "    #empty the counter list    \n",
    "    machines.clear()\n",
    "    for machine in range(machinecount):\n",
    "        machines.append(0)\n",
    "    \n",
    "    #count again how often each machine is assigned \n",
    "    for job in jobs:\n",
    "        machines[job] += 1\n",
    "    \n",
    "    #stop if there are no more machines that dont have enough jobs\n",
    "    if i == 0:    \n",
    "        not_heuristic = False \n",
    "    \n",
    "    print(machines)\n",
    "\n",
    "    \n",
    "#return jobs        \n",
    "        \n",
    "    "
   ]
  }
 ],
 "metadata": {
  "kernelspec": {
   "display_name": "Python 3",
   "language": "python",
   "name": "python3"
  },
  "language_info": {
   "codemirror_mode": {
    "name": "ipython",
    "version": 3
   },
   "file_extension": ".py",
   "mimetype": "text/x-python",
   "name": "python",
   "nbconvert_exporter": "python",
   "pygments_lexer": "ipython3",
   "version": "3.7.1"
  }
 },
 "nbformat": 4,
 "nbformat_minor": 2
}
