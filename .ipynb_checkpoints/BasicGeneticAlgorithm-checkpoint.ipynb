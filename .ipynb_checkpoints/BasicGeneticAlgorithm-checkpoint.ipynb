{
 "cells": [
  {
   "cell_type": "markdown",
   "metadata": {},
   "source": [
    "### Natural Algorithms Genetic algorithm\n"
   ]
  },
  {
   "cell_type": "code",
   "execution_count": 1,
   "metadata": {},
   "outputs": [],
   "source": [
    "import pandas as pd\n",
    "import numpy as np\n",
    "import random\n",
    "import csv"
   ]
  },
  {
   "cell_type": "code",
   "execution_count": 2,
   "metadata": {},
   "outputs": [
    {
     "name": "stdout",
     "output_type": "stream",
     "text": [
      "Welche benchmark soll laufen? benchmark1_20_300\n"
     ]
    }
   ],
   "source": [
    "eingabe = input(\"Welche benchmark soll laufen? \")\n",
    "\n",
    "with open(eingabe + \".csv\") as f:\n",
    "    reader = csv.reader(f)\n",
    "    next(reader) # skip header\n",
    "    values = []\n",
    "    for row in reader:\n",
    "        values.append(row)\n",
    "\n",
    "eingabe = eingabe.split(\"_\")\n",
    "\n",
    "machinecount = int(eingabe[1])\n",
    "jobcount = int(eingabe[2])\n"
   ]
  },
  {
   "cell_type": "code",
   "execution_count": 3,
   "metadata": {},
   "outputs": [
    {
     "ename": "SyntaxError",
     "evalue": "invalid syntax (<ipython-input-3-f078f01070a9>, line 7)",
     "output_type": "error",
     "traceback": [
      "\u001b[1;36m  File \u001b[1;32m\"<ipython-input-3-f078f01070a9>\"\u001b[1;36m, line \u001b[1;32m7\u001b[0m\n\u001b[1;33m    while terminationcondition\u001b[0m\n\u001b[1;37m                              ^\u001b[0m\n\u001b[1;31mSyntaxError\u001b[0m\u001b[1;31m:\u001b[0m invalid syntax\n"
     ]
    }
   ],
   "source": [
    "population = initialize()\n",
    "while terminationcondition:\n",
    "    mating_pool = population.select()\n",
    "    offspring = mating_pool.recombine()\n",
    "    population = replace(population, offspring)\n",
    "    \n",
    "while terminationcondition\n",
    "return best(population)"
   ]
  },
  {
   "cell_type": "code",
   "execution_count": null,
   "metadata": {},
   "outputs": [],
   "source": [
    "def getMax(state, values):\n",
    "    for machine, job in zip(state, range(len(state))):\n",
    "\n",
    "        machinevalues[machine] += values[job]\n",
    "\n",
    "    return max(machinevalues)"
   ]
  },
  {
   "cell_type": "code",
   "execution_count": null,
   "metadata": {
    "scrolled": false
   },
   "outputs": [],
   "source": [
    "#def initialize_random(machinecount, jobcount):\n",
    "# initialize empty list which represents the chromosome\n",
    "jobs = []\n",
    "# assign a random machine to each job    \n",
    "for job in range(jobcount):\n",
    "    jobs.append(random.randint(1,machinecount))\n",
    "    \n",
    "print(jobs)     \n",
    "#return jobs"
   ]
  },
  {
   "cell_type": "code",
   "execution_count": null,
   "metadata": {},
   "outputs": [],
   "source": [
    "#def initialize_extreme(machinecount, jobcount)\n",
    "# initialize empty list which represents chromosome\n",
    "jobs = []\n",
    "# assign the same machine to every job\n",
    "machine = random.randint(1,machinecount)\n",
    "for job in range(jobcount):\n",
    "    jobs.append(machine)\n",
    "\n",
    "print(jobs)\n",
    "#return jobs"
   ]
  },
  {
   "cell_type": "code",
   "execution_count": 8,
   "metadata": {},
   "outputs": [
    {
     "name": "stdout",
     "output_type": "stream",
     "text": [
      "[18, 16, 17, 15, 13, 21, 14, 21, 15, 14, 8, 15, 24, 20, 14, 17, 7, 13, 7, 11]\n",
      "[18, 16, 17, 15, 13, 20, 14, 20, 15, 15, 9, 14, 24, 19, 14, 17, 8, 14, 8, 10]\n",
      "[17, 16, 16, 15, 14, 19, 15, 19, 14, 15, 10, 15, 22, 18, 15, 17, 9, 14, 9, 11]\n",
      "[17, 15, 16, 14, 14, 18, 15, 19, 15, 15, 11, 15, 21, 18, 13, 17, 10, 15, 10, 12]\n",
      "[17, 15, 15, 15, 15, 17, 15, 18, 15, 15, 12, 15, 21, 17, 14, 16, 10, 15, 11, 12]\n",
      "[17, 14, 14, 15, 15, 17, 14, 18, 15, 14, 13, 15, 21, 17, 15, 16, 11, 15, 11, 13]\n",
      "[16, 15, 13, 15, 14, 17, 15, 18, 14, 15, 14, 15, 21, 17, 15, 16, 10, 14, 12, 14]\n",
      "[16, 15, 14, 15, 13, 17, 15, 18, 15, 15, 15, 15, 20, 16, 13, 15, 11, 15, 12, 15]\n",
      "[16, 15, 15, 15, 14, 16, 15, 16, 15, 15, 15, 15, 20, 16, 14, 13, 12, 15, 13, 15]\n",
      "[15, 15, 15, 15, 15, 16, 13, 16, 14, 15, 15, 15, 20, 16, 15, 13, 13, 15, 14, 15]\n",
      "[15, 15, 14, 15, 15, 16, 14, 15, 15, 14, 14, 15, 20, 16, 14, 14, 14, 15, 15, 15]\n",
      "[15, 14, 15, 15, 15, 14, 14, 15, 14, 15, 15, 15, 18, 16, 15, 15, 15, 15, 15, 15]\n",
      "[15, 14, 15, 15, 15, 15, 15, 15, 15, 14, 15, 15, 18, 16, 15, 15, 15, 14, 15, 14]\n",
      "[15, 14, 14, 15, 15, 15, 15, 15, 15, 15, 14, 15, 18, 16, 14, 15, 15, 15, 15, 15]\n",
      "[14, 15, 15, 15, 15, 15, 15, 15, 14, 14, 15, 15, 18, 16, 15, 15, 14, 15, 15, 15]\n",
      "[15, 15, 15, 15, 15, 15, 15, 14, 15, 15, 15, 15, 17, 16, 15, 15, 15, 14, 14, 15]\n",
      "[15, 15, 15, 15, 15, 15, 15, 15, 15, 15, 14, 15, 17, 16, 15, 15, 14, 14, 15, 15]\n",
      "[15, 15, 15, 14, 14, 15, 15, 15, 15, 15, 14, 15, 17, 16, 15, 15, 15, 15, 15, 15]\n",
      "[15, 15, 15, 15, 15, 15, 15, 15, 15, 14, 15, 15, 17, 16, 14, 15, 15, 15, 15, 14]\n",
      "[15, 15, 15, 15, 15, 14, 15, 15, 15, 15, 15, 14, 17, 16, 14, 15, 15, 15, 15, 15]\n",
      "[15, 15, 15, 14, 15, 15, 15, 15, 15, 15, 15, 15, 17, 15, 14, 15, 15, 15, 15, 15]\n",
      "[15, 15, 15, 15, 15, 15, 14, 15, 15, 15, 15, 15, 17, 15, 15, 14, 15, 15, 15, 15]\n",
      "[15, 15, 15, 15, 15, 15, 15, 15, 15, 14, 15, 15, 17, 15, 15, 15, 15, 14, 15, 15]\n",
      "[15, 15, 15, 14, 15, 15, 15, 15, 15, 15, 15, 15, 17, 14, 15, 15, 15, 15, 15, 15]\n",
      "[15, 14, 15, 15, 15, 15, 15, 15, 15, 15, 15, 15, 17, 15, 15, 15, 15, 15, 15, 14]\n",
      "[15, 15, 15, 14, 15, 14, 15, 15, 15, 15, 15, 15, 17, 15, 15, 15, 15, 15, 15, 15]\n",
      "[15, 15, 14, 15, 14, 15, 15, 15, 15, 15, 15, 15, 17, 15, 15, 15, 15, 15, 15, 15]\n",
      "[15, 15, 15, 15, 15, 15, 15, 15, 15, 15, 14, 15, 17, 15, 15, 14, 15, 15, 15, 15]\n",
      "[15, 15, 15, 15, 15, 15, 14, 15, 15, 15, 15, 15, 17, 15, 15, 15, 14, 15, 15, 15]\n",
      "[15, 15, 15, 14, 15, 15, 15, 15, 15, 15, 15, 15, 17, 15, 15, 14, 15, 15, 15, 15]\n",
      "[15, 15, 15, 15, 15, 15, 15, 15, 15, 15, 14, 15, 17, 15, 15, 15, 15, 15, 15, 14]\n",
      "[15, 15, 15, 15, 15, 15, 15, 14, 15, 15, 15, 15, 17, 15, 15, 15, 15, 14, 15, 15]\n",
      "[15, 14, 15, 15, 14, 15, 15, 15, 15, 15, 15, 15, 17, 15, 15, 15, 15, 15, 15, 15]\n",
      "[15, 15, 15, 15, 15, 15, 14, 15, 14, 15, 15, 15, 17, 15, 15, 15, 15, 15, 15, 15]\n",
      "[15, 15, 15, 14, 15, 15, 15, 15, 15, 15, 14, 15, 17, 15, 15, 15, 15, 15, 15, 15]\n",
      "[15, 15, 15, 15, 15, 15, 14, 15, 15, 15, 15, 15, 16, 15, 15, 15, 15, 15, 15, 15]\n",
      "[15, 15, 15, 14, 15, 15, 15, 15, 15, 15, 15, 15, 16, 15, 15, 15, 15, 15, 15, 15]\n",
      "[15, 15, 15, 15, 15, 15, 15, 15, 14, 15, 15, 15, 16, 15, 15, 15, 15, 15, 15, 15]\n",
      "[15, 15, 15, 15, 15, 15, 15, 14, 15, 15, 15, 15, 16, 15, 15, 15, 15, 15, 15, 15]\n",
      "[15, 15, 15, 15, 15, 15, 15, 15, 15, 15, 15, 14, 16, 15, 15, 15, 15, 15, 15, 15]\n",
      "[15, 14, 15, 15, 15, 15, 15, 15, 15, 15, 15, 15, 16, 15, 15, 15, 15, 15, 15, 15]\n",
      "[15, 15, 15, 15, 15, 15, 15, 15, 15, 14, 15, 15, 16, 15, 15, 15, 15, 15, 15, 15]\n",
      "[15, 15, 15, 15, 15, 15, 15, 15, 15, 14, 15, 15, 16, 15, 15, 15, 15, 15, 15, 15]\n",
      "[15, 15, 15, 15, 15, 15, 15, 15, 15, 15, 15, 15, 15, 15, 15, 15, 15, 15, 15, 15]\n",
      "[15, 15, 15, 15, 15, 15, 15, 15, 15, 15, 15, 15, 15, 15, 15, 15, 15, 15, 15, 15]\n",
      "[3, 10, 7, 15, 7, 13, 17, 3, 3, 4, 5, 4, 16, 9, 17, 12, 14, 3, 19, 5, 0, 4, 6, 13, 14, 13, 13, 15, 8, 15, 14, 19, 14, 13, 12, 5, 1, 2, 2, 1, 9, 2, 1, 14, 13, 4, 18, 14, 0, 11, 16, 18, 0, 18, 11, 18, 0, 9, 6, 14, 16, 17, 8, 1, 0, 4, 17, 3, 4, 2, 15, 11, 11, 4, 11, 8, 6, 18, 17, 6, 10, 0, 13, 1, 4, 18, 1, 15, 4, 19, 12, 7, 7, 10, 3, 9, 17, 14, 16, 12, 12, 10, 19, 3, 10, 19, 0, 19, 14, 10, 7, 9, 2, 5, 8, 11, 12, 6, 6, 12, 8, 5, 1, 2, 5, 12, 15, 6, 2, 1, 17, 15, 12, 18, 7, 0, 8, 18, 16, 1, 5, 10, 19, 2, 6, 0, 3, 16, 11, 1, 1, 13, 17, 6, 13, 14, 11, 15, 17, 14, 5, 7, 3, 7, 9, 15, 13, 15, 14, 9, 16, 17, 19, 16, 8, 5, 18, 8, 1, 3, 6, 0, 0, 6, 7, 19, 7, 13, 7, 8, 8, 19, 2, 18, 16, 7, 11, 18, 7, 2, 14, 9, 11, 2, 13, 10, 10, 4, 15, 6, 13, 2, 15, 18, 2, 19, 16, 9, 15, 8, 11, 1, 3, 11, 3, 3, 13, 16, 8, 12, 3, 10, 18, 1, 9, 14, 17, 10, 19, 4, 2, 9, 0, 10, 0, 17, 5, 6, 19, 18, 16, 14, 9, 0, 10, 11, 11, 17, 12, 13, 5, 12, 6, 4, 10, 2, 1, 12, 19, 9, 4, 7, 16, 0, 5, 7, 15, 15, 8, 12, 9, 5, 17, 5, 12, 10, 4, 18, 19, 6, 11, 8, 17, 16, 16, 4, 8, 9, 3, 5]\n"
     ]
    }
   ],
   "source": [
    "# This method initializes a heuristic chromosome.\n",
    "# We use the ratio between jobs/machines to assign every machine to a nearly identical number of jobs.\n",
    "# If we assume that all jobs need the same processing time, this would already yield a nearly perfect solution.\n",
    "\n",
    "#def initialize_heuristic(machinecount, jobcount)\n",
    "\n",
    "jobs = []\n",
    "machines = []\n",
    "not_heuristic = True\n",
    "\n",
    "#create list that serves to count how many jobs a machine is assigned to\n",
    "for machine in range(machinecount):\n",
    "    machines.append(0)\n",
    "    \n",
    "ratio = int(jobcount/machinecount)\n",
    "\n",
    "#assign a random machine to each job and count how often each machine is assigned\n",
    "for job in range(jobcount):\n",
    "    machine = random.randint(0,machinecount-1)\n",
    "    jobs.append(machine)\n",
    "    machines[machine] += 1\n",
    "\n",
    "print(machines)\n",
    "\n",
    "#change the machine assignment such that every machine is assigned a nearly identical number of jobs\n",
    "while not_heuristic:\n",
    "    #i is used to count machines that dont have enough jobs assigned to them, given by the ratio\n",
    "    i = 0\n",
    "    #used as machine index\n",
    "    machine = 0\n",
    "    \n",
    "    #check for every machine\n",
    "    for counter in machines:\n",
    "        #if it has enough jobs assigned, given by the ratio\n",
    "        if counter < ratio:\n",
    "            #if it doesnt, we assign it to one more random job \n",
    "            jobs[random.randint(0,jobcount-1)] = machine\n",
    "            i += 1     \n",
    "        machine += 1\n",
    "        \n",
    "    #empty the counter list    \n",
    "    machines.clear()\n",
    "    for machine in range(machinecount):\n",
    "        machines.append(0)\n",
    "    \n",
    "    #count again how often each machine is assigned \n",
    "    for job in jobs:\n",
    "        machines[job] += 1\n",
    "    \n",
    "    #stop if there are no more machines that dont have enough jobs\n",
    "    if i == 0:    \n",
    "        not_heuristic = False \n",
    "    \n",
    "    print(machines)\n",
    "\n",
    "#return jobs        \n",
    "        \n",
    "    "
   ]
  }
 ],
 "metadata": {
  "kernelspec": {
   "display_name": "Python 3",
   "language": "python",
   "name": "python3"
  },
  "language_info": {
   "codemirror_mode": {
    "name": "ipython",
    "version": 3
   },
   "file_extension": ".py",
   "mimetype": "text/x-python",
   "name": "python",
   "nbconvert_exporter": "python",
   "pygments_lexer": "ipython3",
   "version": "3.7.1"
  }
 },
 "nbformat": 4,
 "nbformat_minor": 2
}
