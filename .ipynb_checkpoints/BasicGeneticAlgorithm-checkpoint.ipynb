{
 "cells": [
  {
   "cell_type": "markdown",
   "metadata": {},
   "source": [
    "# Natural Algorithms Genetic algorithm\n"
   ]
  },
  {
   "cell_type": "code",
   "execution_count": 1,
   "metadata": {},
   "outputs": [],
   "source": [
    "import pandas as pd\n",
    "import numpy as np\n",
    "import random\n",
    "import csv"
   ]
  },
  {
   "cell_type": "markdown",
   "metadata": {},
   "source": [
    "# 1 Fitness function"
   ]
  },
  {
   "cell_type": "code",
   "execution_count": 2,
   "metadata": {},
   "outputs": [],
   "source": [
    "def getFitness(population):\n",
    "    fitnessofpopulation = []\n",
    "    runtimeofeverymachineinachromosome = []\n",
    "    for machine in range(machinecount):\n",
    "        runtimeofeverymachineinachromosome.append(0)\n",
    "    for state in population:\n",
    "        for machine in range(machinecount):\n",
    "            runtimeofeverymachineinachromosome[machine] = 0\n",
    "        for job in range(len(state)-1):\n",
    "            runtimeofeverymachineinachromosome[state[job]] -= int(values[job][0])\n",
    "        fitnessofpopulation.append(min(runtimeofeverymachineinachromosome))  \n",
    "    correction = min(fitnessofpopulation)-1\n",
    "    index = 0\n",
    "    for fitness in fitnessofpopulation:\n",
    "        fitnessofpopulation[index] = fitness - correction\n",
    "        index+=1\n",
    "    return fitnessofpopulation"
   ]
  },
  {
   "cell_type": "code",
   "execution_count": 3,
   "metadata": {},
   "outputs": [],
   "source": [
    "def getBestRuntime(population):\n",
    "    fitnessofpopulation = []\n",
    "    runtimeofeverymachineinachromosome = []\n",
    "    for machine in range(machinecount):\n",
    "        runtimeofeverymachineinachromosome.append(0)\n",
    "    for state in population:\n",
    "        for machine in range(machinecount):\n",
    "            runtimeofeverymachineinachromosome[machine] = 0\n",
    "        for job in range(len(state)-1):\n",
    "            runtimeofeverymachineinachromosome[state[job]] += int(values[job][0])\n",
    "        fitnessofpopulation.append(max(runtimeofeverymachineinachromosome))\n",
    "    return min(fitnessofpopulation)"
   ]
  },
  {
   "cell_type": "markdown",
   "metadata": {},
   "source": [
    "# 2 Initializer"
   ]
  },
  {
   "cell_type": "code",
   "execution_count": 4,
   "metadata": {},
   "outputs": [],
   "source": [
    "# This method calls the random or heuristic initializer\n",
    "\n",
    "def initialize(init_method):\n",
    "    if init_method == \"random\":\n",
    "        pop = initialize_random()\n",
    "    elif init_method == \"heuristic\":\n",
    "        pop = initialize_heuristic()\n",
    "\n",
    "    return pop"
   ]
  },
  {
   "cell_type": "code",
   "execution_count": 5,
   "metadata": {
    "scrolled": false
   },
   "outputs": [],
   "source": [
    "# This method initializes a population with random chromosomes\n",
    "\n",
    "def initialize_random():\n",
    "    pop = []\n",
    "    for chromosome in range(popsize):\n",
    "        # initialize empty list which represents the chromosome\n",
    "        jobs = []\n",
    "        # assign a random machine to each job    \n",
    "        for job in range(jobcount):\n",
    "            jobs.append(random.randint(0,machinecount-1))\n",
    "    \n",
    "        pop.append(jobs)\n",
    "    return pop"
   ]
  },
  {
   "cell_type": "markdown",
   "metadata": {},
   "source": [
    "## 2.1 Intialize heuristic"
   ]
  },
  {
   "cell_type": "code",
   "execution_count": 6,
   "metadata": {
    "scrolled": true
   },
   "outputs": [],
   "source": [
    "# This method initializes a population with heuristic chromosomes\n",
    "# For every chromosome: We use the ratio between jobs/machines to assign every machine to a nearly identical number of jobs.\n",
    "# If we assume that all jobs need the same processing time, this would already yield a nearly perfect solution.\n",
    "\n",
    "def initialize_heuristic():\n",
    "    pop = []\n",
    "\n",
    "    for chromosome in range(popsize):\n",
    "        jobs = []\n",
    "        machines = []\n",
    "        not_heuristic = True\n",
    "\n",
    "        #create list that serves to count how many jobs a machine is assigned to\n",
    "        for machine in range(machinecount):\n",
    "            machines.append(0)\n",
    "    \n",
    "        ratio = int(jobcount/machinecount)\n",
    "\n",
    "        #assign a random machine to each job and count how often each machine is assigned\n",
    "        for job in range(jobcount):\n",
    "            machine = random.randint(0,machinecount-1)\n",
    "            jobs.append(machine)\n",
    "            machines[machine] += 1\n",
    "\n",
    "        #change the machine assignment such that every machine is assigned a nearly identical number of jobs\n",
    "        while not_heuristic:\n",
    "            #i is used to count machines that dont have enough jobs assigned to them, given by the ratio\n",
    "            i = 0\n",
    "            #used as machine index\n",
    "            machine = 0\n",
    "    \n",
    "            #check for every machine\n",
    "            for counter in machines:\n",
    "                #if it has enough jobs assigned, given by the ratio\n",
    "                if counter < ratio:\n",
    "                    #if it doesnt, we assign it to one more random job \n",
    "                    jobs[random.randint(0,jobcount-1)] = machine\n",
    "                    i += 1     \n",
    "                machine += 1\n",
    "        \n",
    "            #empty the counter list    \n",
    "            machines.clear()\n",
    "            for machine in range(machinecount):\n",
    "                machines.append(0)\n",
    "    \n",
    "            #count again how often each machine is assigned \n",
    "            for job in jobs:\n",
    "                machines[job] += 1\n",
    "    \n",
    "            #stop if there are no more machines that dont have enough jobs\n",
    "            if i == 0:    \n",
    "                not_heuristic = False \n",
    "    \n",
    "        pop.append(jobs)\n",
    "\n",
    "    return pop     "
   ]
  },
  {
   "cell_type": "markdown",
   "metadata": {},
   "source": [
    "# 3 Selection"
   ]
  },
  {
   "cell_type": "code",
   "execution_count": 29,
   "metadata": {},
   "outputs": [],
   "source": [
    "def select(sel_method, population):\n",
    "    matingPool = []\n",
    "    if(sel_method == \"fitness_proportionate\"):\n",
    "        #print(\"Hello\")\n",
    "        #run = 0\n",
    "        #while run in range(matingsize):\n",
    "        matingPool = fitness_proportionate(population)\n",
    "        #print(matingPool)\n",
    "    elif(sel_method == \"truncated\"):\n",
    "        #print(\"Hello1\")\n",
    "        matingPool = truncated(population, int(popsize*0.25))\n",
    "    elif(sel_method == \"tournament\"):\n",
    "        #print(\"Hello2\")\n",
    "        #run = 0\n",
    "        #while run in range(matingsize):\n",
    "        matingPool = tournament(population, int(popsize*0.3))\n",
    "        #if selected not in matingPool:\n",
    "         #   matingPool.append(selected)\n",
    "         #   run+=1\n",
    "    return matingPool"
   ]
  },
  {
   "cell_type": "code",
   "execution_count": 8,
   "metadata": {},
   "outputs": [],
   "source": [
    "def fitness_proportionate(population):\n",
    "    probabilityList = []\n",
    "    matingPool = []\n",
    "    fitnessList = getFitness(population)\n",
    "    comulatedFit = sum(fitnessList)\n",
    "    for fitness in fitnessList:\n",
    "        probabilityList.append((fitness/comulatedFit))\n",
    "    for run in range(matingsize):\n",
    "        #print(range(matingsize))\n",
    "        index = int(np.random.choice(popsize, 1, probabilityList))\n",
    "        fitnessList[index] = 0\n",
    "        comulatedFit = sum(fitnessList)\n",
    "        probabilityList = []\n",
    "        for fitness in fitnessList:\n",
    "            if(comulatedFit != 0):\n",
    "                probabilityList.append((fitness/comulatedFit))\n",
    "            else:\n",
    "                break\n",
    "        #print(population[index])\n",
    "        matingPool.append(population[index])\n",
    "        #print(matingPool)    \n",
    "        comulatedProb = sum(probabilityList)\n",
    "        #print(comulatedProb)\n",
    "    return matingPool"
   ]
  },
  {
   "cell_type": "code",
   "execution_count": 9,
   "metadata": {},
   "outputs": [],
   "source": [
    "def truncated(population, s):\n",
    "    fitnessList = getFitness(population)\n",
    "    matingPool = []\n",
    "    for run in range(int(popsize/s)):\n",
    "        fittest = fitnessList.index(max(fitnessList))\n",
    "        for i in range(s):\n",
    "            matingPool.append(population[fittest])\n",
    "        fitnessList[fittest] = 0\n",
    "        \n",
    "    return matingPool\n",
    "        \n",
    "        "
   ]
  },
  {
   "cell_type": "code",
   "execution_count": 10,
   "metadata": {},
   "outputs": [],
   "source": [
    "def tournament(population, s):\n",
    "    fittestChosen = []\n",
    "    for run in range(matingsize):\n",
    "        chosenStates = []\n",
    "        chosenNum = np.random.choice(popsize, s)\n",
    "        for num in chosenNum:\n",
    "            chosenStates.append(population[num])\n",
    "        fittest = getFitness(chosenStates).index(max(getFitness(chosenStates)))\n",
    "        fittestChosen.append(chosenStates[fittest])\n",
    "    return fittestChosen"
   ]
  },
  {
   "cell_type": "markdown",
   "metadata": {},
   "source": [
    "# 4 Recombination Algorithms"
   ]
  },
  {
   "cell_type": "code",
   "execution_count": 11,
   "metadata": {},
   "outputs": [],
   "source": [
    "def recombine(rec_method, mating_pool):\n",
    "    \"\"\"Calls wanted recombine method\"\"\"\n",
    "    if rec_method == 'k-point_crossover':\n",
    "        offspring = kpoint(mating_pool)\n",
    "        \n",
    "    if rec_method == 'uniform_crossover':\n",
    "        offspring = uniformorderbased(mating_pool)\n",
    "        \n",
    "    return offspring"
   ]
  },
  {
   "cell_type": "markdown",
   "metadata": {},
   "source": [
    "## 4.1 k-point crossover"
   ]
  },
  {
   "cell_type": "code",
   "execution_count": 12,
   "metadata": {},
   "outputs": [],
   "source": [
    "# k-point crossover\n",
    "\n",
    "def kpoint(population):\n",
    "    \n",
    "    # generating k\n",
    "    k = random.randint(1, len(population[0])-1)\n",
    "    \n",
    "    # generating crossover\n",
    "    crossover = []\n",
    "    for i in range(k):\n",
    "        crossover.append(random.randint(1, len(population[0])-1))\n",
    "\n",
    "    # Generating childs aka new population\n",
    "    result = []\n",
    "    switch = True\n",
    "    for parent in range(1, len(population), 2):\n",
    "        counter = 0\n",
    "        child1 = []\n",
    "        child2 = []\n",
    "        for elementp1, elementp2 in zip(population[parent - 1], population[parent]):\n",
    "            if switch:\n",
    "                child1.append(elementp1)\n",
    "                child2.append(elementp2)\n",
    "            else:\n",
    "                child1.append(elementp2)\n",
    "                child2.append(elementp1)\n",
    "            counter += 1\n",
    "            if counter in crossover:\n",
    "                switch^=True\n",
    "        result.append(child1)\n",
    "        result.append(child2)\n",
    "    \n",
    "    return result"
   ]
  },
  {
   "cell_type": "markdown",
   "metadata": {},
   "source": [
    "## 4.2 Uniform order based crossover"
   ]
  },
  {
   "cell_type": "code",
   "execution_count": 13,
   "metadata": {},
   "outputs": [],
   "source": [
    "def uniformorderbased(population):\n",
    "    \n",
    "    # Generating Template\n",
    "    template = []\n",
    "    for i in range(len(population[0])):\n",
    "        template.append(random.randint(0, 1))\n",
    "\n",
    "    # Generating children aka new population\n",
    "    result = []\n",
    "    for parent in range(1, len(population), 2):\n",
    "        counter = 0\n",
    "        child1 = []\n",
    "        child2 = []\n",
    "        for elementp1, elementp2 in zip(population[parent - 1], population[parent]):\n",
    "            if template[counter] == 1:\n",
    "                child1.append(elementp1)\n",
    "                child2.append(elementp2)\n",
    "            else:\n",
    "                child1.append(elementp2)\n",
    "                child2.append(elementp1)\n",
    "            counter += 1\n",
    "\n",
    "        result.append(child1)\n",
    "        result.append(child2)\n",
    "    return result"
   ]
  },
  {
   "cell_type": "markdown",
   "metadata": {},
   "source": [
    "# 5 Mutation"
   ]
  },
  {
   "cell_type": "code",
   "execution_count": 14,
   "metadata": {},
   "outputs": [],
   "source": [
    "def mutate(mut_method, offspring):\n",
    "    if mut_method == \"bitflip\":\n",
    "        offspring = bitflip(offspring)\n",
    "    if mut_method == \"swap\":\n",
    "        offspring = swap(offspring)\n",
    "        \n",
    "    return offspring"
   ]
  },
  {
   "cell_type": "code",
   "execution_count": 15,
   "metadata": {},
   "outputs": [],
   "source": [
    "def bitflip(offspring):\n",
    "    state = offspring[random.randint(0, len(offspring)-1)]\n",
    "    index = offspring.index(state)\n",
    "\n",
    "    i = 0\n",
    "    while i < len(state):\n",
    "        state[i] = random.randint(0, machinecount - 1)\n",
    "        i += 1\n",
    "        \n",
    "    offspring[index] = state    \n",
    "    \n",
    "    return offspring"
   ]
  },
  {
   "cell_type": "code",
   "execution_count": 16,
   "metadata": {},
   "outputs": [],
   "source": [
    "def swap(offspring):\n",
    "    state = offspring[random.randint(0, len(offspring)-1)]\n",
    "    index = offspring.index(state)\n",
    "\n",
    "    i = 0\n",
    "    m = random.randInt(1, len(state)-1)\n",
    "    while i < m:\n",
    "        index1 = random.randint(0, len(state)-1)\n",
    "        value1 = state[index1]\n",
    "        index2 = random.randint(0, len(state)-1)\n",
    "        value2 = state[index2]\n",
    "        state[index1] = value2\n",
    "        state[index2] = value1\n",
    "        i += 1\n",
    "        \n",
    "    offspring[index] = state\n",
    "    \n",
    "    return offspring"
   ]
  },
  {
   "cell_type": "markdown",
   "metadata": {},
   "source": [
    "# 6 Replacement"
   ]
  },
  {
   "cell_type": "code",
   "execution_count": 17,
   "metadata": {},
   "outputs": [],
   "source": [
    "def replace(rep_method, population, offspring):\n",
    "    if rep_method == \"steady_state\":\n",
    "        pop = steady_state(population, offspring)\n",
    "    elif rep_method == \"dellAll\":\n",
    "        pop = dellAll(population, offspring)\n",
    "    elif rep_method == \"elitist\":\n",
    "        pop = elitist(population, offspring)\n",
    "        \n",
    "    return pop    "
   ]
  },
  {
   "cell_type": "code",
   "execution_count": 18,
   "metadata": {},
   "outputs": [],
   "source": [
    "def runtimecounter(dataList,machineCount,population):\n",
    "    subCount = 0\n",
    "    for i in range(0,len(population)):\n",
    "        # range(0,machinecount+1)\n",
    "        for j in range(1,10):\n",
    "            count = 0\n",
    "            for x in range(0,len(dataList)):\n",
    "                if j == population[i][x]:\n",
    "                    count = count + dataList[x]\n",
    "            if count > subCount:\n",
    "                subCount = count\n",
    "                identification = i\n",
    "                \n",
    "    return identification"
   ]
  },
  {
   "cell_type": "code",
   "execution_count": 19,
   "metadata": {},
   "outputs": [],
   "source": [
    "# delete the worst chromosome\n",
    "def steadyState(population, offspring):\n",
    "    population.extend(offspring)\n",
    "    return population.remove(runtimecounter(dataList,machineCount,population))"
   ]
  },
  {
   "cell_type": "code",
   "execution_count": 20,
   "metadata": {},
   "outputs": [],
   "source": [
    "def dellAll(population, offspring):\n",
    "    return offspring"
   ]
  },
  {
   "cell_type": "code",
   "execution_count": 21,
   "metadata": {},
   "outputs": [],
   "source": [
    "def elitist(population, offspring):\n",
    "    newPopulation = []\n",
    "    population.extend(offspring)\n",
    "    fitnessList = getFitness(population)\n",
    "    for i in range(popsize):\n",
    "        fittest = fitnessList.index(max(fitnessList))\n",
    "        newPopulation.append(population[fittest])\n",
    "        fitnessList[fittest] = 0\n",
    "    return newPopulation"
   ]
  },
  {
   "cell_type": "code",
   "execution_count": 22,
   "metadata": {},
   "outputs": [],
   "source": [
    "def steady_state(population, offspring):\n",
    "    fitnessList = getFitness(population)\n",
    "    for i in range(int((len(offspring)-1))):\n",
    "        fittest = fitnessList.index(min(fitnessList))\n",
    "        population.remove(population[fittest])\n",
    "        fitnessList.remove(fitnessList[fittest])\n",
    "    population.extend(offspring)\n",
    "    return population"
   ]
  },
  {
   "cell_type": "markdown",
   "metadata": {},
   "source": [
    "# 7 Main"
   ]
  },
  {
   "cell_type": "markdown",
   "metadata": {},
   "source": [
    "## 7.1 Eingabe"
   ]
  },
  {
   "cell_type": "code",
   "execution_count": 23,
   "metadata": {},
   "outputs": [
    {
     "name": "stdout",
     "output_type": "stream",
     "text": [
      "Welche benchmark soll laufen? benchmark2_20_300\n"
     ]
    }
   ],
   "source": [
    "eingabe = input(\"Welche benchmark soll laufen? \")\n",
    "casesPop = [10, 50, 100, 200]\n",
    "\n",
    "popsize = 0\n",
    "matingsize = 0\n",
    "\n",
    "\n",
    "with open(eingabe + \".csv\") as f:\n",
    "    reader = csv.reader(f)\n",
    "    next(reader) # skip header\n",
    "    values = []\n",
    "    for row in reader:\n",
    "        values.append(row)\n",
    "\n",
    "eingabe = eingabe.split(\"_\")\n",
    "\n",
    "machinecount = int(eingabe[1])\n",
    "jobcount = int(eingabe[2])"
   ]
  },
  {
   "cell_type": "markdown",
   "metadata": {},
   "source": [
    "## 7.2 Pseudocode"
   ]
  },
  {
   "cell_type": "code",
   "execution_count": null,
   "metadata": {},
   "outputs": [],
   "source": [
    "def main(initializer, selector, recombiner, mutator, replacer):\n",
    "    population = initialize(initializer)\n",
    "    bestRuntime = getBestRuntime(population)\n",
    "    counter = 0\n",
    "    #print(replacer)\n",
    "    while (counter<50):\n",
    "        mating_pool = select(selector, population)\n",
    "        #print(len(mating_pool))\n",
    "        #print(mating_pool)\n",
    "        offspring = recombine(recombiner, mating_pool)\n",
    "        #print(len(offspring))\n",
    "        if(np.random.choice(1, 1, [0.5, 0.5])==1):\n",
    "            offspring = mutate(mutator, offspring)\n",
    "        #print(len(offspring))\n",
    "        population = replace(replacer, population, offspring)\n",
    "        #print(len(population))\n",
    "        currentBest = getBestRuntime(population)\n",
    "        if(currentBest < bestRuntime):\n",
    "            bestRuntime = currentBest\n",
    "            counter = 0\n",
    "        else:\n",
    "            counter+=1\n",
    "        #print(bestRuntime)\n",
    "    return getBestRuntime(population)"
   ]
  },
  {
   "cell_type": "markdown",
   "metadata": {
    "scrolled": false
   },
   "source": [
    "proc_times = []\n",
    "nested = []\n",
    "for i in casesPop:\n",
    "    popsize = i\n",
    "    casesMate = [int(i*0.2), int(i*0.8)]\n",
    "    for j in casesMate:\n",
    "        matingsize = j\n",
    "        for a in range(10):\n",
    "            proc_times.append(main())\n",
    "            print(a)\n",
    "        nested.append(proc_times)\n",
    "        proc_times= []\n",
    "            \n",
    "\n",
    "print(proc_times)"
   ]
  },
  {
   "cell_type": "code",
   "execution_count": 25,
   "metadata": {},
   "outputs": [],
   "source": [
    "import matplotlib.pyplot as plt"
   ]
  },
  {
   "cell_type": "markdown",
   "metadata": {},
   "source": [
    "fig, ax = plt.subplots()\n",
    "ax.boxplot(nested)\n",
    "\n",
    "plt.xticks([1, 2, 3, 4, 5, 6, 7, 8], ['p 10, m 0.2', 'p 10, m 0.8', 'p 50, m 0,2', 'p 50, m 0,8', 'p 100, m 0.2', 'p 100, m 0.8', 'p 200, m 0.2', 'p 200, m 0.8'],\n",
    "          rotation=25, ha='right')\n",
    "ax.set_ylabel(\"Max Runtime\")\n",
    "plt.show()\n"
   ]
  },
  {
   "cell_type": "code",
   "execution_count": 26,
   "metadata": {},
   "outputs": [],
   "source": [
    "#print(nested)"
   ]
  },
  {
   "cell_type": "code",
   "execution_count": 27,
   "metadata": {},
   "outputs": [],
   "source": [
    "# [[7765, 7192, 7711, 7030, 7188, 7440, 6965, 7365, 7647, 7537], [7280, 6922, 7148, 7140, 6769, 7141, 7254, 7416, 7465, 7450], [7049, 7276, 7429, 6816, 7264, 6532, 7200, 7163, 7261, 6443], [6965, 6653, 6642, 6490, 7092, 7170, 6432, 6593, 6691, 6557], [7335, 7165, 7336, 7154, 7412, 7304, 6993, 6984, 7187, 7182], [6877, 6433, 7144, 6684, 6354, 6509, 6433, 6512, 6562, 6460], [7329, 7152, 6915, 7109, 7214, 7094, 7357, 7357, 7237, 7313], [7123, 6595, 6969, 7132, 6452, 6934, 6692, 6728, 6777, 7023]]"
   ]
  },
  {
   "cell_type": "code",
   "execution_count": null,
   "metadata": {},
   "outputs": [],
   "source": []
  },
  {
   "cell_type": "code",
   "execution_count": 30,
   "metadata": {},
   "outputs": [
    {
     "name": "stdout",
     "output_type": "stream",
     "text": [
      "0\n",
      "1\n",
      "2\n",
      "3\n",
      "4\n",
      "5\n",
      "6\n",
      "7\n",
      "8\n",
      "9\n",
      "['random', 'tournament', 'k-point_crossover', 'bitflip', 'steady_state']\n",
      "[9604, 9535, 9968, 9749, 9697, 9174, 9259, 9132, 9537, 9850]\n",
      "0\n",
      "1\n",
      "2\n",
      "3\n",
      "4\n",
      "5\n",
      "6\n",
      "7\n",
      "8\n",
      "9\n",
      "['random', 'tournament', 'k-point_crossover', 'bitflip', 'elitist']\n",
      "[9578, 9550, 9249, 9417, 9426, 9782, 9743, 9735, 10033, 9481]\n",
      "0\n",
      "1\n"
     ]
    },
    {
     "ename": "KeyboardInterrupt",
     "evalue": "",
     "output_type": "error",
     "traceback": [
      "\u001b[0;31m---------------------------------------------------------------------------\u001b[0m",
      "\u001b[0;31mKeyboardInterrupt\u001b[0m                         Traceback (most recent call last)",
      "\u001b[0;32m<ipython-input-30-07a08b748120>\u001b[0m in \u001b[0;36m<module>\u001b[0;34m\u001b[0m\n\u001b[1;32m     12\u001b[0m                 \u001b[0;32mfor\u001b[0m \u001b[0mreplacer\u001b[0m \u001b[0;32min\u001b[0m \u001b[0;34m[\u001b[0m\u001b[0;34m'steady_state'\u001b[0m\u001b[0;34m,\u001b[0m \u001b[0;34m'elitist'\u001b[0m\u001b[0;34m]\u001b[0m\u001b[0;34m:\u001b[0m\u001b[0;34m\u001b[0m\u001b[0;34m\u001b[0m\u001b[0m\n\u001b[1;32m     13\u001b[0m                     \u001b[0;32mfor\u001b[0m \u001b[0ma\u001b[0m \u001b[0;32min\u001b[0m \u001b[0mrange\u001b[0m\u001b[0;34m(\u001b[0m\u001b[0;36m10\u001b[0m\u001b[0;34m)\u001b[0m\u001b[0;34m:\u001b[0m\u001b[0;34m\u001b[0m\u001b[0;34m\u001b[0m\u001b[0m\n\u001b[0;32m---> 14\u001b[0;31m                         \u001b[0mproc_times\u001b[0m\u001b[0;34m.\u001b[0m\u001b[0mappend\u001b[0m\u001b[0;34m(\u001b[0m\u001b[0mmain\u001b[0m\u001b[0;34m(\u001b[0m\u001b[0minitializer\u001b[0m\u001b[0;34m,\u001b[0m \u001b[0mselector\u001b[0m\u001b[0;34m,\u001b[0m \u001b[0mrecombiner\u001b[0m\u001b[0;34m,\u001b[0m \u001b[0mmutator\u001b[0m\u001b[0;34m,\u001b[0m \u001b[0mreplacer\u001b[0m\u001b[0;34m)\u001b[0m\u001b[0;34m)\u001b[0m\u001b[0;34m\u001b[0m\u001b[0;34m\u001b[0m\u001b[0m\n\u001b[0m\u001b[1;32m     15\u001b[0m                         \u001b[0mprint\u001b[0m\u001b[0;34m(\u001b[0m\u001b[0ma\u001b[0m\u001b[0;34m)\u001b[0m\u001b[0;34m\u001b[0m\u001b[0;34m\u001b[0m\u001b[0m\n\u001b[1;32m     16\u001b[0m                     \u001b[0mnested\u001b[0m\u001b[0;34m.\u001b[0m\u001b[0mappend\u001b[0m\u001b[0;34m(\u001b[0m\u001b[0mproc_times\u001b[0m\u001b[0;34m)\u001b[0m\u001b[0;34m\u001b[0m\u001b[0;34m\u001b[0m\u001b[0m\n",
      "\u001b[0;32m<ipython-input-24-1ab9e8d31969>\u001b[0m in \u001b[0;36mmain\u001b[0;34m(initializer, selector, recombiner, mutator, replacer)\u001b[0m\n\u001b[1;32m      5\u001b[0m     \u001b[0;31m#print(replacer)\u001b[0m\u001b[0;34m\u001b[0m\u001b[0;34m\u001b[0m\u001b[0;34m\u001b[0m\u001b[0m\n\u001b[1;32m      6\u001b[0m     \u001b[0;32mwhile\u001b[0m \u001b[0;34m(\u001b[0m\u001b[0mcounter\u001b[0m\u001b[0;34m<\u001b[0m\u001b[0;36m50\u001b[0m\u001b[0;34m)\u001b[0m\u001b[0;34m:\u001b[0m\u001b[0;34m\u001b[0m\u001b[0;34m\u001b[0m\u001b[0m\n\u001b[0;32m----> 7\u001b[0;31m         \u001b[0mmating_pool\u001b[0m \u001b[0;34m=\u001b[0m \u001b[0mselect\u001b[0m\u001b[0;34m(\u001b[0m\u001b[0mselector\u001b[0m\u001b[0;34m,\u001b[0m \u001b[0mpopulation\u001b[0m\u001b[0;34m)\u001b[0m\u001b[0;34m\u001b[0m\u001b[0;34m\u001b[0m\u001b[0m\n\u001b[0m\u001b[1;32m      8\u001b[0m         \u001b[0;31m#print(len(mating_pool))\u001b[0m\u001b[0;34m\u001b[0m\u001b[0;34m\u001b[0m\u001b[0;34m\u001b[0m\u001b[0m\n\u001b[1;32m      9\u001b[0m         \u001b[0;31m#print(mating_pool)\u001b[0m\u001b[0;34m\u001b[0m\u001b[0;34m\u001b[0m\u001b[0;34m\u001b[0m\u001b[0m\n",
      "\u001b[0;32m<ipython-input-29-91e9ce7ee53a>\u001b[0m in \u001b[0;36mselect\u001b[0;34m(sel_method, population)\u001b[0m\n\u001b[1;32m     14\u001b[0m         \u001b[0;31m#run = 0\u001b[0m\u001b[0;34m\u001b[0m\u001b[0;34m\u001b[0m\u001b[0;34m\u001b[0m\u001b[0m\n\u001b[1;32m     15\u001b[0m         \u001b[0;31m#while run in range(matingsize):\u001b[0m\u001b[0;34m\u001b[0m\u001b[0;34m\u001b[0m\u001b[0;34m\u001b[0m\u001b[0m\n\u001b[0;32m---> 16\u001b[0;31m         \u001b[0mmatingPool\u001b[0m \u001b[0;34m=\u001b[0m \u001b[0mtournament\u001b[0m\u001b[0;34m(\u001b[0m\u001b[0mpopulation\u001b[0m\u001b[0;34m,\u001b[0m \u001b[0mint\u001b[0m\u001b[0;34m(\u001b[0m\u001b[0mpopsize\u001b[0m\u001b[0;34m*\u001b[0m\u001b[0;36m0.3\u001b[0m\u001b[0;34m)\u001b[0m\u001b[0;34m)\u001b[0m\u001b[0;34m\u001b[0m\u001b[0;34m\u001b[0m\u001b[0m\n\u001b[0m\u001b[1;32m     17\u001b[0m         \u001b[0;31m#if selected not in matingPool:\u001b[0m\u001b[0;34m\u001b[0m\u001b[0;34m\u001b[0m\u001b[0;34m\u001b[0m\u001b[0m\n\u001b[1;32m     18\u001b[0m          \u001b[0;31m#   matingPool.append(selected)\u001b[0m\u001b[0;34m\u001b[0m\u001b[0;34m\u001b[0m\u001b[0;34m\u001b[0m\u001b[0m\n",
      "\u001b[0;32m<ipython-input-10-6e74ad91f9b0>\u001b[0m in \u001b[0;36mtournament\u001b[0;34m(population, s)\u001b[0m\n\u001b[1;32m      6\u001b[0m         \u001b[0;32mfor\u001b[0m \u001b[0mnum\u001b[0m \u001b[0;32min\u001b[0m \u001b[0mchosenNum\u001b[0m\u001b[0;34m:\u001b[0m\u001b[0;34m\u001b[0m\u001b[0;34m\u001b[0m\u001b[0m\n\u001b[1;32m      7\u001b[0m             \u001b[0mchosenStates\u001b[0m\u001b[0;34m.\u001b[0m\u001b[0mappend\u001b[0m\u001b[0;34m(\u001b[0m\u001b[0mpopulation\u001b[0m\u001b[0;34m[\u001b[0m\u001b[0mnum\u001b[0m\u001b[0;34m]\u001b[0m\u001b[0;34m)\u001b[0m\u001b[0;34m\u001b[0m\u001b[0;34m\u001b[0m\u001b[0m\n\u001b[0;32m----> 8\u001b[0;31m         \u001b[0mfittest\u001b[0m \u001b[0;34m=\u001b[0m \u001b[0mgetFitness\u001b[0m\u001b[0;34m(\u001b[0m\u001b[0mchosenStates\u001b[0m\u001b[0;34m)\u001b[0m\u001b[0;34m.\u001b[0m\u001b[0mindex\u001b[0m\u001b[0;34m(\u001b[0m\u001b[0mmax\u001b[0m\u001b[0;34m(\u001b[0m\u001b[0mgetFitness\u001b[0m\u001b[0;34m(\u001b[0m\u001b[0mchosenStates\u001b[0m\u001b[0;34m)\u001b[0m\u001b[0;34m)\u001b[0m\u001b[0;34m)\u001b[0m\u001b[0;34m\u001b[0m\u001b[0;34m\u001b[0m\u001b[0m\n\u001b[0m\u001b[1;32m      9\u001b[0m         \u001b[0mfittestChosen\u001b[0m\u001b[0;34m.\u001b[0m\u001b[0mappend\u001b[0m\u001b[0;34m(\u001b[0m\u001b[0mchosenStates\u001b[0m\u001b[0;34m[\u001b[0m\u001b[0mfittest\u001b[0m\u001b[0;34m]\u001b[0m\u001b[0;34m)\u001b[0m\u001b[0;34m\u001b[0m\u001b[0;34m\u001b[0m\u001b[0m\n\u001b[1;32m     10\u001b[0m     \u001b[0;32mreturn\u001b[0m \u001b[0mfittestChosen\u001b[0m\u001b[0;34m\u001b[0m\u001b[0;34m\u001b[0m\u001b[0m\n",
      "\u001b[0;32m<ipython-input-2-09c3b685a81b>\u001b[0m in \u001b[0;36mgetFitness\u001b[0;34m(population)\u001b[0m\n\u001b[1;32m      8\u001b[0m             \u001b[0mruntimeofeverymachineinachromosome\u001b[0m\u001b[0;34m[\u001b[0m\u001b[0mmachine\u001b[0m\u001b[0;34m]\u001b[0m \u001b[0;34m=\u001b[0m \u001b[0;36m0\u001b[0m\u001b[0;34m\u001b[0m\u001b[0;34m\u001b[0m\u001b[0m\n\u001b[1;32m      9\u001b[0m         \u001b[0;32mfor\u001b[0m \u001b[0mjob\u001b[0m \u001b[0;32min\u001b[0m \u001b[0mrange\u001b[0m\u001b[0;34m(\u001b[0m\u001b[0mlen\u001b[0m\u001b[0;34m(\u001b[0m\u001b[0mstate\u001b[0m\u001b[0;34m)\u001b[0m\u001b[0;34m-\u001b[0m\u001b[0;36m1\u001b[0m\u001b[0;34m)\u001b[0m\u001b[0;34m:\u001b[0m\u001b[0;34m\u001b[0m\u001b[0;34m\u001b[0m\u001b[0m\n\u001b[0;32m---> 10\u001b[0;31m             \u001b[0mruntimeofeverymachineinachromosome\u001b[0m\u001b[0;34m[\u001b[0m\u001b[0mstate\u001b[0m\u001b[0;34m[\u001b[0m\u001b[0mjob\u001b[0m\u001b[0;34m]\u001b[0m\u001b[0;34m]\u001b[0m \u001b[0;34m-=\u001b[0m \u001b[0mint\u001b[0m\u001b[0;34m(\u001b[0m\u001b[0mvalues\u001b[0m\u001b[0;34m[\u001b[0m\u001b[0mjob\u001b[0m\u001b[0;34m]\u001b[0m\u001b[0;34m[\u001b[0m\u001b[0;36m0\u001b[0m\u001b[0;34m]\u001b[0m\u001b[0;34m)\u001b[0m\u001b[0;34m\u001b[0m\u001b[0;34m\u001b[0m\u001b[0m\n\u001b[0m\u001b[1;32m     11\u001b[0m         \u001b[0mfitnessofpopulation\u001b[0m\u001b[0;34m.\u001b[0m\u001b[0mappend\u001b[0m\u001b[0;34m(\u001b[0m\u001b[0mmin\u001b[0m\u001b[0;34m(\u001b[0m\u001b[0mruntimeofeverymachineinachromosome\u001b[0m\u001b[0;34m)\u001b[0m\u001b[0;34m)\u001b[0m\u001b[0;34m\u001b[0m\u001b[0;34m\u001b[0m\u001b[0m\n\u001b[1;32m     12\u001b[0m     \u001b[0mcorrection\u001b[0m \u001b[0;34m=\u001b[0m \u001b[0mmin\u001b[0m\u001b[0;34m(\u001b[0m\u001b[0mfitnessofpopulation\u001b[0m\u001b[0;34m)\u001b[0m\u001b[0;34m-\u001b[0m\u001b[0;36m1\u001b[0m\u001b[0;34m\u001b[0m\u001b[0;34m\u001b[0m\u001b[0m\n",
      "\u001b[0;31mKeyboardInterrupt\u001b[0m: "
     ]
    }
   ],
   "source": [
    "proc_times = []\n",
    "nested = []\n",
    "popsize = 50\n",
    "matingsize = int(popsize*0.8)\n",
    "mode = []\n",
    "modulu = []\n",
    "\n",
    "for initializer in ['random', 'heuristic']:\n",
    "    for selector in ['tournament', 'fitness_proportionate']:\n",
    "        for recombiner in ['k-point_crossover', 'uniform_crossover']:\n",
    "            for mutator in ['bitflip', 'swap']:\n",
    "                for replacer in ['steady_state', 'elitist']:\n",
    "                    for a in range(10):\n",
    "                        proc_times.append(main(initializer, selector, recombiner, mutator, replacer))\n",
    "                        print(a)\n",
    "                    nested.append(proc_times)\n",
    "                    mode = [initializer, selector, recombiner, mutator, replacer]\n",
    "                    print(mode)\n",
    "                    modulu.append(mode)\n",
    "                    print(proc_times)\n",
    "                    proc_times= []"
   ]
  },
  {
   "cell_type": "markdown",
   "metadata": {},
   "source": [
    "von = 25\n",
    "bis = 32\n",
    "data= nested\n",
    "labels = modulu\n",
    "\n",
    "fig, ax = plt.subplots()\n",
    "ax.boxplot(data[von-1:bis], vert=False)\n",
    "plt.yticks(range(1, bis-von +2), labels[von-1 :bis], size=20)\n",
    "ax.tick_params(labelsize= 25)\n",
    "fig.set_size_inches(18.5, 24.5)\n",
    "ax.set_xlabel(\"Max Runtime\",size=20)\n",
    "\n",
    "plt.show()"
   ]
  },
  {
   "cell_type": "code",
   "execution_count": null,
   "metadata": {},
   "outputs": [],
   "source": []
  }
 ],
 "metadata": {
  "kernelspec": {
   "display_name": "Python 3",
   "language": "python",
   "name": "python3"
  },
  "language_info": {
   "codemirror_mode": {
    "name": "ipython",
    "version": 3
   },
   "file_extension": ".py",
   "mimetype": "text/x-python",
   "name": "python",
   "nbconvert_exporter": "python",
   "pygments_lexer": "ipython3",
   "version": "3.6.8"
  }
 },
 "nbformat": 4,
 "nbformat_minor": 2
}
