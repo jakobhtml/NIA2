{
 "cells": [
  {
   "cell_type": "markdown",
   "metadata": {},
   "source": [
    "### Natural Algorithms Genetic algorithm\n"
   ]
  },
  {
   "cell_type": "code",
   "execution_count": 1,
   "metadata": {},
   "outputs": [],
   "source": [
    "import pandas as pd\n",
    "import numpy as np\n",
    "import random\n",
    "import csv"
   ]
  },
  {
   "cell_type": "code",
   "execution_count": 2,
   "metadata": {},
   "outputs": [
    {
     "name": "stdout",
     "output_type": "stream",
     "text": [
      "Welche benchmark soll laufen? benchmark1_20_300\n"
     ]
    }
   ],
   "source": [
    "eingabe = input(\"Welche benchmark soll laufen? \")\n",
    "\n",
    "with open(eingabe + \".csv\") as f:\n",
    "    reader = csv.reader(f)\n",
    "    next(reader) # skip header\n",
    "    values = []\n",
    "    for row in reader:\n",
    "        values.append(row)\n",
    "\n",
    "eingabe = eingabe.split(\"_\")\n",
    "\n",
    "machinecount = int(eingabe[1])\n",
    "jobcount = int(eingabe[2])\n"
   ]
  },
  {
   "cell_type": "code",
   "execution_count": 3,
   "metadata": {},
   "outputs": [
    {
     "ename": "SyntaxError",
     "evalue": "invalid syntax (<ipython-input-3-f078f01070a9>, line 7)",
     "output_type": "error",
     "traceback": [
      "\u001b[1;36m  File \u001b[1;32m\"<ipython-input-3-f078f01070a9>\"\u001b[1;36m, line \u001b[1;32m7\u001b[0m\n\u001b[1;33m    while terminationcondition\u001b[0m\n\u001b[1;37m                              ^\u001b[0m\n\u001b[1;31mSyntaxError\u001b[0m\u001b[1;31m:\u001b[0m invalid syntax\n"
     ]
    }
   ],
   "source": [
    "population = initialize()\n",
    "while terminationcondition:\n",
    "    mating_pool = population.select()\n",
    "    offspring = mating_pool.recombine()\n",
    "    population = replace(population, offspring)\n",
    "    \n",
    "while terminationcondition\n",
    "return best(population)"
   ]
  },
  {
   "cell_type": "code",
   "execution_count": null,
   "metadata": {},
   "outputs": [],
   "source": [
    "def getMax(state, values):\n",
    "    for machine, job in zip(state, range(len(state))):\n",
    "\n",
    "        machinevalues[machine] += values[job]\n",
    "\n",
    "    return max(machinevalues)"
   ]
  },
  {
   "cell_type": "code",
   "execution_count": null,
   "metadata": {
    "scrolled": false
   },
   "outputs": [],
   "source": [
    "# This method initializes a population with random chromosomes\n",
    "\n",
    "def initialize_random(machinecount, jobcount, popsize):\n",
    "    population = []\n",
    "    popsize = 2 \n",
    "    for chromosome in range(popsize):\n",
    "        # initialize empty list which represents the chromosome\n",
    "        jobs = []\n",
    "        # assign a random machine to each job    \n",
    "        for job in range(jobcount):\n",
    "            jobs.append(random.randint(0,machinecount-1))\n",
    "    \n",
    "        population.append(jobs)\n",
    "\n",
    "    return population"
   ]
  },
  {
   "cell_type": "code",
   "execution_count": 5,
   "metadata": {
    "scrolled": true
   },
   "outputs": [
    {
     "name": "stdout",
     "output_type": "stream",
     "text": [
      "[[16, 9, 4, 17, 16, 13, 17, 0, 13, 17, 10, 9, 19, 7, 5, 0, 17, 16, 10, 3, 19, 10, 4, 19, 9, 4, 4, 2, 9, 10, 11, 1, 15, 8, 12, 18, 13, 5, 18, 6, 15, 13, 4, 5, 19, 14, 4, 11, 12, 6, 19, 1, 17, 0, 1, 11, 14, 1, 2, 10, 6, 13, 12, 19, 8, 18, 2, 10, 15, 4, 11, 0, 18, 5, 12, 13, 1, 18, 10, 2, 13, 2, 3, 4, 5, 9, 14, 0, 6, 12, 0, 16, 0, 15, 12, 0, 8, 7, 13, 3, 8, 15, 3, 8, 7, 8, 7, 1, 12, 17, 0, 17, 2, 18, 19, 3, 17, 18, 9, 7, 2, 14, 6, 9, 6, 17, 3, 15, 6, 3, 10, 8, 6, 10, 9, 15, 3, 18, 12, 6, 14, 9, 1, 15, 4, 0, 10, 18, 8, 2, 6, 7, 5, 15, 11, 8, 9, 3, 10, 14, 13, 5, 19, 11, 15, 14, 19, 16, 8, 8, 14, 2, 14, 5, 14, 7, 5, 13, 10, 8, 7, 7, 8, 14, 19, 2, 11, 19, 6, 15, 4, 17, 12, 9, 7, 1, 1, 14, 9, 5, 11, 16, 4, 2, 6, 12, 11, 4, 3, 16, 3, 11, 16, 16, 2, 12, 9, 5, 4, 19, 9, 18, 19, 2, 0, 15, 7, 18, 14, 17, 13, 16, 15, 7, 2, 19, 17, 0, 4, 1, 11, 18, 7, 11, 2, 12, 16, 11, 0, 3, 11, 18, 16, 8, 8, 12, 1, 9, 13, 5, 1, 0, 18, 1, 16, 6, 14, 15, 17, 16, 7, 7, 6, 10, 11, 5, 12, 17, 14, 19, 13, 13, 18, 1, 10, 15, 12, 6, 3, 3, 3, 1, 10, 4, 5, 5, 17, 0, 13, 16], [1, 17, 18, 4, 1, 3, 19, 19, 3, 12, 0, 1, 1, 11, 18, 7, 4, 15, 8, 1, 14, 15, 11, 12, 3, 8, 3, 9, 18, 5, 2, 16, 2, 0, 4, 14, 16, 9, 15, 4, 12, 9, 1, 5, 3, 3, 12, 16, 0, 14, 11, 11, 15, 11, 17, 1, 9, 3, 6, 17, 8, 18, 7, 10, 18, 14, 0, 6, 17, 5, 19, 13, 4, 7, 17, 2, 0, 15, 19, 5, 8, 3, 14, 5, 7, 13, 8, 10, 12, 7, 12, 13, 18, 2, 14, 10, 16, 11, 13, 6, 5, 5, 0, 0, 10, 15, 19, 16, 17, 8, 15, 0, 12, 13, 14, 17, 4, 1, 6, 17, 2, 13, 16, 0, 15, 14, 10, 4, 18, 11, 16, 3, 12, 9, 7, 0, 1, 4, 16, 13, 5, 3, 4, 18, 5, 16, 14, 11, 4, 10, 13, 13, 3, 19, 15, 14, 4, 17, 7, 10, 3, 19, 17, 18, 10, 6, 18, 4, 9, 17, 18, 9, 19, 11, 18, 7, 13, 0, 16, 7, 9, 2, 10, 8, 9, 3, 19, 8, 2, 10, 12, 13, 18, 7, 9, 7, 5, 15, 8, 1, 9, 9, 6, 12, 8, 0, 11, 19, 2, 12, 11, 16, 9, 17, 12, 5, 18, 13, 17, 3, 13, 7, 16, 6, 6, 2, 8, 5, 17, 0, 7, 11, 5, 13, 2, 10, 10, 0, 2, 0, 10, 6, 11, 12, 4, 1, 15, 12, 8, 1, 16, 7, 1, 5, 14, 2, 12, 8, 13, 9, 11, 4, 8, 10, 15, 16, 6, 1, 14, 15, 5, 15, 14, 9, 3, 6, 2, 19, 16, 2, 19, 6, 14, 6, 11, 8, 14, 7, 1, 6, 10, 19, 19, 19, 17, 15, 6, 2, 18, 4]]\n"
     ]
    }
   ],
   "source": [
    "# This method initializes a population with heuristic chromosomes\n",
    "# For every chromosome: We use the ratio between jobs/machines to assign every machine to a nearly identical number of jobs.\n",
    "# If we assume that all jobs need the same processing time, this would already yield a nearly perfect solution.\n",
    "\n",
    "def initialize_heuristic(machinecount, jobcount, popsize)\n",
    "    population = []\n",
    "    popsize = 2\n",
    "    for chromosome in range(popsize):\n",
    "        jobs = []\n",
    "        machines = []\n",
    "        not_heuristic = True\n",
    "\n",
    "        #create list that serves to count how many jobs a machine is assigned to\n",
    "        for machine in range(machinecount):\n",
    "            machines.append(0)\n",
    "    \n",
    "        ratio = int(jobcount/machinecount)\n",
    "\n",
    "        #assign a random machine to each job and count how often each machine is assigned\n",
    "        for job in range(jobcount):\n",
    "            machine = random.randint(0,machinecount-1)\n",
    "            jobs.append(machine)\n",
    "            machines[machine] += 1\n",
    "\n",
    "        #change the machine assignment such that every machine is assigned a nearly identical number of jobs\n",
    "        while not_heuristic:\n",
    "            #i is used to count machines that dont have enough jobs assigned to them, given by the ratio\n",
    "            i = 0\n",
    "            #used as machine index\n",
    "            machine = 0\n",
    "    \n",
    "            #check for every machine\n",
    "            for counter in machines:\n",
    "                #if it has enough jobs assigned, given by the ratio\n",
    "                if counter < ratio:\n",
    "                    #if it doesnt, we assign it to one more random job \n",
    "                    jobs[random.randint(0,jobcount-1)] = machine\n",
    "                    i += 1     \n",
    "                machine += 1\n",
    "        \n",
    "            #empty the counter list    \n",
    "            machines.clear()\n",
    "            for machine in range(machinecount):\n",
    "                machines.append(0)\n",
    "    \n",
    "            #count again how often each machine is assigned \n",
    "            for job in jobs:\n",
    "                machines[job] += 1\n",
    "    \n",
    "            #stop if there are no more machines that dont have enough jobs\n",
    "            if i == 0:    \n",
    "                not_heuristic = False \n",
    "    \n",
    "        population.append(jobs)\n",
    "    \n",
    "    return population     \n",
    "        \n",
    "    "
   ]
  }
 ],
 "metadata": {
  "kernelspec": {
   "display_name": "Python 3",
   "language": "python",
   "name": "python3"
  },
  "language_info": {
   "codemirror_mode": {
    "name": "ipython",
    "version": 3
   },
   "file_extension": ".py",
   "mimetype": "text/x-python",
   "name": "python",
   "nbconvert_exporter": "python",
   "pygments_lexer": "ipython3",
   "version": "3.7.1"
  }
 },
 "nbformat": 4,
 "nbformat_minor": 2
}
