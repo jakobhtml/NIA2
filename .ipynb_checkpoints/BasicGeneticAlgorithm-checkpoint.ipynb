{
 "cells": [
  {
   "cell_type": "markdown",
   "metadata": {},
   "source": [
    "### Natural Algorithms Genetic algorithm\n"
   ]
  },
  {
   "cell_type": "code",
   "execution_count": 1,
   "metadata": {},
   "outputs": [],
   "source": [
    "import pandas as pd\n",
    "import numpy as np\n",
    "import csv\n",
    "import random"
   ]
  },
  {
   "cell_type": "code",
   "execution_count": 2,
   "metadata": {
    "scrolled": true
   },
   "outputs": [
    {
     "name": "stdout",
     "output_type": "stream",
     "text": [
      "Welche benchmark soll laufen? benchmark1_20_300\n"
     ]
    }
   ],
   "source": [
    "eingabe = input(\"Welche benchmark soll laufen? \")\n",
    "\n",
    "with open(eingabe + \".csv\") as f:\n",
    "    reader = csv.reader(f)\n",
    "    next(reader) # skip header\n",
    "    laufzeiten = []\n",
    "    for row in reader:\n",
    "        laufzeiten.append(row)\n",
    "\n",
    "eingabe = eingabe.split(\"_\")\n",
    "\n",
    "machinecount = eingabe[1]\n",
    "jobcount = eingabe[2]"
   ]
  },
  {
   "cell_type": "code",
   "execution_count": 3,
   "metadata": {},
   "outputs": [
    {
     "name": "stdout",
     "output_type": "stream",
     "text": [
      "[['169'], ['686'], ['810'], ['526'], ['966'], ['975'], ['942'], ['308'], ['970'], ['799'], ['481'], ['289'], ['493'], ['239'], ['504'], ['716'], ['868'], ['590'], ['920'], ['892'], ['422'], ['302'], ['342'], ['457'], ['567'], ['995'], ['466'], ['389'], ['94'], ['519'], ['251'], ['489'], ['378'], ['769'], ['734'], ['626'], ['656'], ['33'], ['15'], ['349'], ['549'], ['627'], ['91'], ['459'], ['335'], ['474'], ['777'], ['382'], ['910'], ['857'], ['554'], ['809'], ['27'], ['137'], ['758'], ['305'], ['657'], ['212'], ['94'], ['628'], ['195'], ['933'], ['486'], ['647'], ['267'], ['275'], ['85'], ['712'], ['887'], ['347'], ['358'], ['340'], ['463'], ['249'], ['820'], ['447'], ['726'], ['435'], ['553'], ['676'], ['54'], ['767'], ['754'], ['467'], ['33'], ['422'], ['152'], ['107'], ['572'], ['234'], ['299'], ['921'], ['218'], ['658'], ['126'], ['570'], ['92'], ['191'], ['744'], ['652'], ['821'], ['224'], ['918'], ['390'], ['971'], ['679'], ['12'], ['310'], ['186'], ['942'], ['426'], ['107'], ['207'], ['729'], ['663'], ['996'], ['582'], ['814'], ['825'], ['193'], ['561'], ['987'], ['544'], ['213'], ['970'], ['428'], ['139'], ['587'], ['542'], ['681'], ['85'], ['36'], ['331'], ['546'], ['677'], ['605'], ['929'], ['741'], ['112'], ['787'], ['69'], ['588'], ['515'], ['497'], ['107'], ['556'], ['531'], ['838'], ['363'], ['988'], ['503'], ['670'], ['402'], ['241'], ['527'], ['435'], ['394'], ['503'], ['896'], ['427'], ['173'], ['725'], ['283'], ['738'], ['465'], ['377'], ['707'], ['588'], ['540'], ['362'], ['361'], ['19'], ['275'], ['612'], ['184'], ['682'], ['642'], ['476'], ['110'], ['519'], ['890'], ['959'], ['904'], ['111'], ['877'], ['35'], ['225'], ['93'], ['232'], ['229'], ['396'], ['800'], ['627'], ['926'], ['536'], ['805'], ['853'], ['403'], ['739'], ['200'], ['106'], ['219'], ['181'], ['247'], ['299'], ['184'], ['159'], ['107'], ['216'], ['221'], ['268'], ['142'], ['211'], ['185'], ['106'], ['190'], ['294'], ['232'], ['201'], ['159'], ['150'], ['271'], ['292'], ['258'], ['217'], ['249'], ['228'], ['282'], ['173'], ['271'], ['135'], ['290'], ['122'], ['261'], ['165'], ['213'], ['265'], ['241'], ['101'], ['246'], ['241'], ['223'], ['270'], ['178'], ['276'], ['266'], ['148'], ['194'], ['256'], ['280'], ['127'], ['141'], ['239'], ['249'], ['124'], ['111'], ['104'], ['213'], ['219'], ['285'], ['235'], ['163'], ['262'], ['101'], ['188'], ['137'], ['119'], ['235'], ['216'], ['296'], ['124'], ['146'], ['117'], ['131'], ['247'], ['188'], ['288'], ['106'], ['176'], ['132'], ['299'], ['209'], ['152'], ['194'], ['168'], ['276'], ['222'], ['228'], ['241'], ['237'], ['154'], ['194'], ['267'], ['138'], ['258'], ['137'], ['300'], ['129'], ['135']]\n"
     ]
    }
   ],
   "source": [
    "print(laufzeiten)"
   ]
  },
  {
   "cell_type": "code",
   "execution_count": 4,
   "metadata": {},
   "outputs": [
    {
     "ename": "SyntaxError",
     "evalue": "invalid syntax (<ipython-input-4-f078f01070a9>, line 7)",
     "output_type": "error",
     "traceback": [
      "\u001b[1;36m  File \u001b[1;32m\"<ipython-input-4-f078f01070a9>\"\u001b[1;36m, line \u001b[1;32m7\u001b[0m\n\u001b[1;33m    while terminationcondition\u001b[0m\n\u001b[1;37m                              ^\u001b[0m\n\u001b[1;31mSyntaxError\u001b[0m\u001b[1;31m:\u001b[0m invalid syntax\n"
     ]
    }
   ],
   "source": [
    "population = initialize()\n",
    "while terminationcondition:\n",
    "    mating_pool = population.select()\n",
    "    offspring = mating_pool.recombine()\n",
    "    population = replace(population, offspring)\n",
    "    \n",
    "while terminationcondition\n",
    "return best(population)"
   ]
  },
  {
   "cell_type": "code",
   "execution_count": null,
   "metadata": {},
   "outputs": [],
   "source": [
    "def getMax(state, laufzeiten):\n",
    "    for machine, job in zip(state, range(len(state))):\n",
    "\n",
    "        machinevalues[machine] += laufzeiten[job]\n",
    "\n",
    "    return max(machinevalues)"
   ]
  },
  {
   "cell_type": "markdown",
   "metadata": {},
   "source": [
    "## Mutation"
   ]
  },
  {
   "cell_type": "markdown",
   "metadata": {},
   "source": [
    "#### bit-flip"
   ]
  },
  {
   "cell_type": "code",
   "execution_count": null,
   "metadata": {},
   "outputs": [],
   "source": [
    "state = [1,4,7,3,6,8,3,6,4,7,4]"
   ]
  },
  {
   "cell_type": "code",
   "execution_count": null,
   "metadata": {},
   "outputs": [],
   "source": [
    "def bitflip(state, machinecount):\n",
    "    i = 0\n",
    "    while i < len(state):\n",
    "        state[i] = random.randint(0, machinecount - 1)\n",
    "        i += 1\n",
    "    return state"
   ]
  },
  {
   "cell_type": "code",
   "execution_count": null,
   "metadata": {},
   "outputs": [],
   "source": [
    "bitflip(state, 20)"
   ]
  },
  {
   "cell_type": "markdown",
   "metadata": {},
   "source": [
    "#### swap"
   ]
  },
  {
   "cell_type": "code",
   "execution_count": null,
   "metadata": {},
   "outputs": [],
   "source": [
    "def swap(state, m):\n",
    "    i = 0\n",
    "    while i < m:\n",
    "        index1 = random.randint(0, len(state))\n",
    "        value1 = state[index1]\n",
    "        index2 = random.randint(0, len(state))\n",
    "        value2 = state[index2]\n",
    "        state[index1] = value2\n",
    "        state[index2] = value1\n",
    "        i += 1\n",
    "    return state\n"
   ]
  },
  {
   "cell_type": "code",
   "execution_count": null,
   "metadata": {},
   "outputs": [],
   "source": [
    "swap(state, 2)"
   ]
  },
  {
   "cell_type": "code",
   "execution_count": null,
   "metadata": {},
   "outputs": [],
   "source": []
  }
 ],
 "metadata": {
  "kernelspec": {
   "display_name": "Python 3",
   "language": "python",
   "name": "python3"
  },
  "language_info": {
   "codemirror_mode": {
    "name": "ipython",
    "version": 3
   },
   "file_extension": ".py",
   "mimetype": "text/x-python",
   "name": "python",
   "nbconvert_exporter": "python",
   "pygments_lexer": "ipython3",
   "version": "3.7.1"
  }
 },
 "nbformat": 4,
 "nbformat_minor": 2
}
