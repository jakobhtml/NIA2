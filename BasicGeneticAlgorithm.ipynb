{
 "cells": [
  {
   "cell_type": "markdown",
   "metadata": {},
   "source": [
    "### Natural Algorithms Genetic algorithm\n"
   ]
  },
  {
   "cell_type": "code",
   "execution_count": 1,
   "metadata": {},
   "outputs": [],
   "source": [
    "import pandas as pd\n",
    "import numpy as np\n",
    "import random\n",
    "import csv"
   ]
  },
  {
   "cell_type": "code",
   "execution_count": 2,
   "metadata": {},
   "outputs": [
    {
     "name": "stdout",
     "output_type": "stream",
     "text": [
      "Welche benchmark soll laufen? benchmark1_20_300\n"
     ]
    }
   ],
   "source": [
    "eingabe = input(\"Welche benchmark soll laufen? \")\n",
    "\n",
    "with open(eingabe + \".csv\") as f:\n",
    "    reader = csv.reader(f)\n",
    "    next(reader) # skip header\n",
    "    values = []\n",
    "    for row in reader:\n",
    "        values.append(row)\n",
    "\n",
    "eingabe = eingabe.split(\"_\")\n",
    "\n",
    "machinecount = int(eingabe[1])\n",
    "jobcount = int(eingabe[2])\n"
   ]
  },
  {
   "cell_type": "code",
   "execution_count": 3,
   "metadata": {},
   "outputs": [
    {
     "ename": "SyntaxError",
     "evalue": "invalid syntax (<ipython-input-3-f078f01070a9>, line 7)",
     "output_type": "error",
     "traceback": [
      "\u001b[1;36m  File \u001b[1;32m\"<ipython-input-3-f078f01070a9>\"\u001b[1;36m, line \u001b[1;32m7\u001b[0m\n\u001b[1;33m    while terminationcondition\u001b[0m\n\u001b[1;37m                              ^\u001b[0m\n\u001b[1;31mSyntaxError\u001b[0m\u001b[1;31m:\u001b[0m invalid syntax\n"
     ]
    }
   ],
   "source": [
    "population = initialize()\n",
    "while terminationcondition:\n",
    "    mating_pool = population.select()\n",
    "    offspring = mating_pool.recombine()\n",
    "    population = replace(population, offspring)\n",
    "    \n",
    "while terminationcondition\n",
    "return best(population)"
   ]
  },
  {
   "cell_type": "code",
   "execution_count": null,
   "metadata": {},
   "outputs": [],
   "source": [
    "def getMax(state, values):\n",
    "    for machine, job in zip(state, range(len(state))):\n",
    "\n",
    "        machinevalues[machine] += values[job]\n",
    "\n",
    "    return max(machinevalues)"
   ]
  },
  {
   "cell_type": "code",
   "execution_count": 15,
   "metadata": {
    "scrolled": false
   },
   "outputs": [
    {
     "ename": "NameError",
     "evalue": "name 'initialize_random' is not defined",
     "output_type": "error",
     "traceback": [
      "\u001b[1;31m---------------------------------------------------------------------------\u001b[0m",
      "\u001b[1;31mNameError\u001b[0m                                 Traceback (most recent call last)",
      "\u001b[1;32m<ipython-input-15-5695fe02bd21>\u001b[0m in \u001b[0;36m<module>\u001b[1;34m\u001b[0m\n\u001b[0;32m      1\u001b[0m \u001b[1;31m# This method initializes a population with random chromosomes\u001b[0m\u001b[1;33m\u001b[0m\u001b[1;33m\u001b[0m\u001b[1;33m\u001b[0m\u001b[0m\n\u001b[0;32m      2\u001b[0m \u001b[1;33m\u001b[0m\u001b[0m\n\u001b[1;32m----> 3\u001b[1;33m \u001b[0mpopulation\u001b[0m \u001b[1;33m=\u001b[0m \u001b[0minitialize_random\u001b[0m\u001b[1;33m(\u001b[0m\u001b[0mmachinecount\u001b[0m\u001b[1;33m,\u001b[0m \u001b[0mjobcount\u001b[0m\u001b[1;33m,\u001b[0m \u001b[1;36m2\u001b[0m\u001b[1;33m)\u001b[0m\u001b[1;33m\u001b[0m\u001b[1;33m\u001b[0m\u001b[0m\n\u001b[0m\u001b[0;32m      4\u001b[0m \u001b[0mprint\u001b[0m\u001b[1;33m(\u001b[0m\u001b[0mpopulation\u001b[0m\u001b[1;33m)\u001b[0m\u001b[1;33m\u001b[0m\u001b[1;33m\u001b[0m\u001b[0m\n\u001b[0;32m      5\u001b[0m \u001b[1;33m\u001b[0m\u001b[0m\n",
      "\u001b[1;31mNameError\u001b[0m: name 'initialize_random' is not defined"
     ]
    }
   ],
   "source": [
    "# This method initializes a population with random chromosomes\n",
    "\n",
    "population = initialize_random(machinecount, jobcount, 2)\n",
    "print(population)\n",
    "\n",
    "def initialize_random(machinecount, jobcount, popsize):\n",
    "    population = []\n",
    "    popsize = 2 \n",
    "    for chromosome in range(popsize):\n",
    "        # initialize empty list which represents the chromosome\n",
    "        jobs = []\n",
    "        # assign a random machine to each job    \n",
    "        for job in range(jobcount):\n",
    "            jobs.append(random.randint(0,machinecount-1))\n",
    "    \n",
    "        population.append(jobs)\n",
    "\n",
    "    return population"
   ]
  },
  {
   "cell_type": "code",
   "execution_count": 12,
   "metadata": {
    "scrolled": true
   },
   "outputs": [
    {
     "name": "stdout",
     "output_type": "stream",
     "text": [
      "[[1, 8, 7, 19, 19, 19, 19, 4, 7, 13, 12, 6, 6, 6, 12, 3, 5, 8, 10, 16, 5, 14, 2, 4, 3, 11, 13, 17, 19, 2, 18, 19, 13, 6, 2, 12, 3, 13, 19, 18, 2, 7, 7, 18, 12, 3, 3, 4, 8, 9, 16, 15, 5, 19, 14, 17, 9, 1, 0, 15, 0, 2, 0, 18, 8, 11, 14, 9, 15, 15, 6, 16, 4, 14, 9, 1, 16, 2, 13, 4, 3, 4, 15, 11, 2, 7, 18, 13, 10, 18, 9, 6, 16, 5, 9, 7, 1, 17, 10, 17, 14, 5, 2, 11, 4, 16, 3, 11, 13, 4, 5, 19, 5, 12, 19, 18, 12, 5, 14, 2, 6, 5, 0, 13, 10, 15, 3, 12, 2, 7, 15, 9, 5, 7, 17, 19, 0, 9, 8, 7, 4, 10, 11, 4, 17, 19, 10, 5, 18, 10, 17, 1, 17, 11, 1, 12, 15, 13, 13, 2, 14, 4, 9, 11, 0, 3, 15, 3, 14, 8, 6, 17, 15, 6, 6, 3, 12, 11, 9, 8, 16, 16, 10, 6, 2, 1, 8, 11, 15, 8, 8, 7, 0, 8, 13, 10, 18, 18, 5, 11, 13, 12, 16, 14, 17, 4, 9, 12, 3, 7, 1, 18, 2, 0, 2, 11, 17, 13, 9, 12, 14, 15, 19, 11, 6, 10, 3, 5, 10, 17, 13, 16, 12, 8, 14, 9, 18, 6, 10, 8, 19, 10, 16, 17, 16, 7, 3, 18, 10, 0, 15, 5, 1, 9, 1, 5, 0, 11, 16, 18, 1, 14, 14, 1, 13, 4, 0, 18, 1, 2, 19, 8, 6, 7, 7, 4, 4, 0, 1, 0, 9, 12, 0, 17, 14, 10, 16, 16, 0, 1, 8, 6, 15, 7, 11, 3, 17, 14, 15, 12], [17, 18, 7, 7, 16, 7, 6, 15, 15, 0, 6, 8, 19, 2, 12, 8, 14, 12, 0, 1, 4, 6, 17, 0, 2, 6, 11, 14, 5, 8, 4, 12, 18, 12, 14, 19, 5, 2, 19, 5, 5, 2, 17, 4, 7, 11, 10, 1, 10, 10, 1, 6, 16, 10, 11, 8, 15, 9, 3, 18, 4, 5, 12, 14, 19, 14, 15, 14, 17, 13, 13, 18, 4, 16, 12, 3, 4, 12, 8, 10, 9, 4, 2, 15, 14, 19, 11, 16, 10, 3, 0, 4, 12, 15, 13, 17, 7, 1, 3, 10, 8, 14, 1, 6, 11, 9, 7, 2, 11, 14, 6, 14, 1, 2, 16, 15, 13, 17, 0, 7, 5, 13, 11, 7, 19, 19, 9, 14, 13, 5, 14, 11, 11, 10, 16, 0, 18, 15, 16, 7, 3, 4, 10, 0, 18, 2, 10, 13, 6, 2, 12, 2, 14, 8, 0, 5, 2, 16, 2, 0, 9, 18, 12, 19, 10, 19, 17, 9, 12, 15, 13, 12, 16, 11, 18, 5, 6, 17, 16, 3, 15, 8, 3, 9, 6, 4, 12, 6, 16, 7, 15, 0, 7, 13, 18, 6, 5, 16, 9, 0, 3, 8, 11, 19, 9, 3, 6, 2, 18, 5, 19, 17, 16, 0, 11, 4, 13, 7, 7, 9, 18, 13, 6, 18, 16, 10, 3, 11, 3, 9, 4, 4, 7, 0, 9, 9, 1, 18, 3, 1, 11, 12, 15, 1, 17, 4, 14, 7, 5, 17, 4, 13, 18, 13, 19, 8, 16, 1, 6, 5, 8, 9, 1, 19, 18, 10, 9, 1, 8, 12, 2, 17, 13, 1, 17, 3, 11, 3, 3, 5, 1, 10, 10, 2, 17, 17, 19, 15, 15, 13, 0, 15, 1, 14, 19, 0, 5, 8, 8, 8]]\n"
     ]
    }
   ],
   "source": [
    "# This method initializes a population with heuristic chromosomes\n",
    "# For every chromosome: We use the ratio between jobs/machines to assign every machine to a nearly identical number of jobs.\n",
    "# If we assume that all jobs need the same processing time, this would already yield a nearly perfect solution.\n",
    "\n",
    "population = initialize_heuristic(machinecount, jobcount, 2)\n",
    "print(population)\n",
    "\n",
    "def initialize_heuristic(machinecount, jobcount, popsize):\n",
    "    population = []\n",
    "\n",
    "    for chromosome in range(popsize):\n",
    "        jobs = []\n",
    "        machines = []\n",
    "        not_heuristic = True\n",
    "\n",
    "        #create list that serves to count how many jobs a machine is assigned to\n",
    "        for machine in range(machinecount):\n",
    "            machines.append(0)\n",
    "    \n",
    "        ratio = int(jobcount/machinecount)\n",
    "\n",
    "        #assign a random machine to each job and count how often each machine is assigned\n",
    "        for job in range(jobcount):\n",
    "            machine = random.randint(0,machinecount-1)\n",
    "            jobs.append(machine)\n",
    "            machines[machine] += 1\n",
    "\n",
    "        #change the machine assignment such that every machine is assigned a nearly identical number of jobs\n",
    "        while not_heuristic:\n",
    "            #i is used to count machines that dont have enough jobs assigned to them, given by the ratio\n",
    "            i = 0\n",
    "            #used as machine index\n",
    "            machine = 0\n",
    "    \n",
    "            #check for every machine\n",
    "            for counter in machines:\n",
    "                #if it has enough jobs assigned, given by the ratio\n",
    "                if counter < ratio:\n",
    "                    #if it doesnt, we assign it to one more random job \n",
    "                    jobs[random.randint(0,jobcount-1)] = machine\n",
    "                    i += 1     \n",
    "                machine += 1\n",
    "        \n",
    "            #empty the counter list    \n",
    "            machines.clear()\n",
    "            for machine in range(machinecount):\n",
    "                machines.append(0)\n",
    "    \n",
    "            #count again how often each machine is assigned \n",
    "            for job in jobs:\n",
    "                machines[job] += 1\n",
    "    \n",
    "            #stop if there are no more machines that dont have enough jobs\n",
    "            if i == 0:    \n",
    "                not_heuristic = False \n",
    "    \n",
    "        population.append(jobs)\n",
    "\n",
    "    return population     \n",
    "        \n",
    "    "
   ]
  }
 ],
 "metadata": {
  "kernelspec": {
   "display_name": "Python 3",
   "language": "python",
   "name": "python3"
  },
  "language_info": {
   "codemirror_mode": {
    "name": "ipython",
    "version": 3
   },
   "file_extension": ".py",
   "mimetype": "text/x-python",
   "name": "python",
   "nbconvert_exporter": "python",
   "pygments_lexer": "ipython3",
   "version": "3.7.1"
  }
 },
 "nbformat": 4,
 "nbformat_minor": 2
}
