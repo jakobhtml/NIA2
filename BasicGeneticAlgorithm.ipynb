{
 "cells": [
  {
   "cell_type": "markdown",
   "metadata": {},
   "source": [
    "### Natural Algorithms Genetic algorithm\n"
   ]
  },
  {
   "cell_type": "code",
   "execution_count": 1,
   "metadata": {},
   "outputs": [],
   "source": [
    "import pandas as pd\n",
    "import numpy as np\n",
    "import random\n",
    "import csv"
   ]
  },
  {
   "cell_type": "code",
   "execution_count": 2,
   "metadata": {},
   "outputs": [
    {
     "name": "stdout",
     "output_type": "stream",
     "text": [
      "Welche benchmark soll laufen? benchmark1_20_300\n"
     ]
    }
   ],
   "source": [
    "eingabe = input(\"Welche benchmark soll laufen? \")\n",
    "\n",
    "with open(eingabe + \".csv\") as f:\n",
    "    reader = csv.reader(f)\n",
    "    next(reader) # skip header\n",
    "    values = []\n",
    "    for row in reader:\n",
    "        values.append(row)\n",
    "\n",
    "eingabe = eingabe.split(\"_\")\n",
    "\n",
    "machinecount = int(eingabe[1])\n",
    "jobcount = int(eingabe[2])\n"
   ]
  },
  {
   "cell_type": "code",
   "execution_count": 3,
   "metadata": {},
   "outputs": [
    {
     "ename": "SyntaxError",
     "evalue": "invalid syntax (<ipython-input-3-f078f01070a9>, line 7)",
     "output_type": "error",
     "traceback": [
      "\u001b[1;36m  File \u001b[1;32m\"<ipython-input-3-f078f01070a9>\"\u001b[1;36m, line \u001b[1;32m7\u001b[0m\n\u001b[1;33m    while terminationcondition\u001b[0m\n\u001b[1;37m                              ^\u001b[0m\n\u001b[1;31mSyntaxError\u001b[0m\u001b[1;31m:\u001b[0m invalid syntax\n"
     ]
    }
   ],
   "source": [
    "population = initialize()\n",
    "while terminationcondition:\n",
    "    mating_pool = population.select()\n",
    "    offspring = mating_pool.recombine()\n",
    "    population = replace(population, offspring)\n",
    "    \n",
    "while terminationcondition\n",
    "return best(population)"
   ]
  },
  {
   "cell_type": "code",
   "execution_count": null,
   "metadata": {},
   "outputs": [],
   "source": [
    "def getMax(state, values):\n",
    "    for machine, job in zip(state, range(len(state))):\n",
    "\n",
    "        machinevalues[machine] += values[job]\n",
    "\n",
    "    return max(machinevalues)"
   ]
  },
  {
   "cell_type": "code",
   "execution_count": null,
   "metadata": {
    "scrolled": false
   },
   "outputs": [],
   "source": [
    "#def initialize_random(machinecount, jobcount):\n",
    "# initialize empty list which represents the chromosome\n",
    "jobs = []\n",
    "# assign a random machine to each job    \n",
    "for job in range(jobcount):\n",
    "    jobs.append(random.randint(1,machinecount))\n",
    "    \n",
    "print(jobs)\n",
    "#return jobs"
   ]
  },
  {
   "cell_type": "code",
   "execution_count": null,
   "metadata": {},
   "outputs": [],
   "source": [
    "#def initialize_extreme(machinecount, jobcount)\n",
    "# initialize empty list which represents chromosome\n",
    "jobs = []\n",
    "# assign the same machine to every job\n",
    "machine = random.randint(1,machinecount)\n",
    "for job in range(jobcount):\n",
    "    jobs.append(machine)\n",
    "    \n",
    "#return jobs"
   ]
  },
  {
   "cell_type": "code",
   "execution_count": null,
   "metadata": {},
   "outputs": [],
   "source": [
    "#def initialize_heuristic(machinecount, jobcount)\n",
    "\n",
    "jobs = []\n",
    "machines = []\n",
    "for machine in range(machinecount):\n",
    "    machines.append(0)\n",
    "print(machines)\n",
    "ratio = int(jobcount/machinecount)\n",
    "\n",
    "for job in range(jobcount):\n",
    "    machine = random.randint(1,machinecount)\n",
    "    jobs.append(machine)\n",
    "    machines[machine-1] += 1    \n",
    "            \n",
    "print(jobs)        \n",
    "print(machines)    \n",
    "    \n",
    "\n",
    "        \n",
    "        \n",
    "    "
   ]
  }
 ],
 "metadata": {
  "kernelspec": {
   "display_name": "Python 3",
   "language": "python",
   "name": "python3"
  },
  "language_info": {
   "codemirror_mode": {
    "name": "ipython",
    "version": 3
   },
   "file_extension": ".py",
   "mimetype": "text/x-python",
   "name": "python",
   "nbconvert_exporter": "python",
   "pygments_lexer": "ipython3",
   "version": "3.7.1"
  }
 },
 "nbformat": 4,
 "nbformat_minor": 2
}
