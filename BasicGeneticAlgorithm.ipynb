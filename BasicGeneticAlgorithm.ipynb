{
 "cells": [
  {
   "cell_type": "markdown",
   "metadata": {},
   "source": [
    "### Natural Algorithms Genetic algorithm\n"
   ]
  },
  {
   "cell_type": "code",
   "execution_count": 1,
   "metadata": {},
   "outputs": [],
   "source": [
    "import pandas as pd\n",
    "import numpy as np\n",
    "import random\n",
    "import csv"
   ]
  },
  {
   "cell_type": "code",
   "execution_count": 27,
   "metadata": {},
   "outputs": [
    {
     "name": "stdout",
     "output_type": "stream",
     "text": [
      "Welche benchmark soll laufen? benchmark3_50_101\n"
     ]
    }
   ],
   "source": [
    "eingabe = input(\"Welche benchmark soll laufen? \")\n",
    "\n",
    "with open(eingabe + \".csv\") as f:\n",
    "    reader = csv.reader(f)\n",
    "    next(reader) # skip header\n",
    "    values = []\n",
    "    for row in reader:\n",
    "        values.append(row)\n",
    "\n",
    "eingabe = eingabe.split(\"_\")\n",
    "\n",
    "machinecount = int(eingabe[1])\n",
    "jobcount = int(eingabe[2])\n"
   ]
  },
  {
   "cell_type": "code",
   "execution_count": 3,
   "metadata": {},
   "outputs": [
    {
     "ename": "SyntaxError",
     "evalue": "invalid syntax (<ipython-input-3-f078f01070a9>, line 7)",
     "output_type": "error",
     "traceback": [
      "\u001b[1;36m  File \u001b[1;32m\"<ipython-input-3-f078f01070a9>\"\u001b[1;36m, line \u001b[1;32m7\u001b[0m\n\u001b[1;33m    while terminationcondition\u001b[0m\n\u001b[1;37m                              ^\u001b[0m\n\u001b[1;31mSyntaxError\u001b[0m\u001b[1;31m:\u001b[0m invalid syntax\n"
     ]
    }
   ],
   "source": [
    "population = initialize()\n",
    "while terminationcondition:\n",
    "    mating_pool = population.select()\n",
    "    offspring = mating_pool.recombine()\n",
    "    population = replace(population, offspring)\n",
    "    \n",
    "while terminationcondition\n",
    "return best(population)"
   ]
  },
  {
   "cell_type": "code",
   "execution_count": 4,
   "metadata": {},
   "outputs": [],
   "source": [
    "def getMax(state, values):\n",
    "    for machine, job in zip(state, range(len(state))):\n",
    "\n",
    "        machinevalues[machine] += values[job]\n",
    "\n",
    "    return max(machinevalues)"
   ]
  },
  {
   "cell_type": "code",
   "execution_count": 18,
   "metadata": {
    "scrolled": true
   },
   "outputs": [
    {
     "name": "stdout",
     "output_type": "stream",
     "text": [
      "[8, 10, 14, 8, 11, 14, 7, 2, 15, 14, 19, 12, 9, 10, 8, 2, 20, 3, 19, 12, 18, 7, 4, 16, 2, 18, 2, 17, 17, 10, 7, 7, 5, 14, 8, 5, 2, 12, 20, 7, 14, 11, 20, 19, 5, 20, 14, 4, 5, 19, 19, 11, 6, 15, 13, 15, 17, 9, 14, 17, 9, 10, 10, 9, 15, 15, 2, 3, 11, 18, 6, 20, 9, 9, 2, 18, 9, 16, 18, 1, 9, 5, 1, 17, 17, 2, 3, 20, 16, 7, 15, 17, 2, 11, 18, 2, 4, 11, 1, 2, 6, 13, 8, 1, 4, 12, 9, 10, 5, 14, 4, 8, 12, 7, 11, 6, 4, 10, 8, 7, 6, 1, 11, 7, 16, 11, 9, 17, 7, 16, 1, 1, 9, 17, 6, 19, 9, 7, 14, 13, 19, 4, 5, 9, 6, 15, 5, 12, 3, 13, 15, 6, 12, 13, 15, 11, 14, 15, 6, 15, 16, 3, 13, 17, 20, 12, 17, 12, 18, 12, 14, 20, 10, 16, 8, 10, 8, 3, 14, 10, 16, 1, 2, 14, 13, 14, 6, 19, 10, 1, 7, 10, 12, 6, 3, 14, 20, 11, 15, 7, 12, 1, 2, 5, 10, 15, 15, 12, 15, 19, 3, 17, 7, 2, 2, 16, 17, 11, 12, 8, 15, 7, 12, 15, 4, 14, 12, 1, 19, 12, 3, 3, 13, 6, 2, 2, 15, 18, 17, 12, 4, 18, 14, 6, 13, 10, 2, 5, 17, 12, 8, 20, 11, 3, 15, 5, 14, 14, 15, 12, 9, 2, 18, 4, 20, 7, 15, 9, 9, 19, 19, 11, 4, 20, 18, 11, 18, 16, 3, 12, 10, 6, 14, 8, 6, 4, 12, 7, 6, 1, 15, 20, 6, 9, 15, 8, 8, 7, 19, 6]\n"
     ]
    }
   ],
   "source": [
    "#def initialize_random(machinecount, jobcount):\n",
    "# initialize empty list which represents the chromosome\n",
    "jobs = []\n",
    "# assign a random machine to each job    \n",
    "for job in range(jobcount):\n",
    "    jobs.append(random.randint(1,machinecount))\n",
    "    \n",
    "print(jobs)\n",
    "#return jobs"
   ]
  },
  {
   "cell_type": "code",
   "execution_count": 24,
   "metadata": {},
   "outputs": [],
   "source": [
    "#def initialize_extreme(machinecount, jobcount)\n",
    "# initialize empty list which represents chromosome\n",
    "jobs = []\n",
    "# assign the same machine to every job\n",
    "machine = random.randint(1,machinecount)\n",
    "for job in range(jobcount):\n",
    "    jobs.append(machine)\n",
    "    \n",
    "#return jobs"
   ]
  },
  {
   "cell_type": "code",
   "execution_count": 49,
   "metadata": {},
   "outputs": [
    {
     "name": "stdout",
     "output_type": "stream",
     "text": [
      "[0, 0, 0, 0, 0, 0, 0, 0, 0, 0, 0, 0, 0, 0, 0, 0, 0, 0, 0, 0, 0, 0, 0, 0, 0, 0, 0, 0, 0, 0, 0, 0, 0, 0, 0, 0, 0, 0, 0, 0, 0, 0, 0, 0, 0, 0, 0, 0, 0, 0]\n",
      "[49, 45, 34, 43, 47, 44, 28, 46, 16, 37, 49, 21, 39, 31, 10, 18, 37, 36, 47, 34, 30, 28, 45, 27, 4, 2, 13, 11, 16, 33, 50, 42, 49, 23, 41, 16, 38, 27, 39, 18, 43, 32, 42, 15, 11, 4, 45, 13, 15, 46, 35, 6, 12, 49, 31, 48, 22, 8, 32, 42, 39, 12, 36, 21, 21, 42, 50, 16, 22, 48, 50, 24, 25, 23, 37, 14, 29, 24, 27, 11, 41, 26, 44, 15, 1, 21, 34, 17, 38, 46, 38, 44, 14, 33, 1, 34, 50, 17, 2, 13, 6]\n",
      "[2, 2, 0, 2, 0, 2, 0, 1, 0, 1, 3, 2, 3, 2, 3, 4, 2, 2, 0, 0, 4, 2, 2, 2, 1, 1, 3, 2, 1, 1, 2, 2, 2, 4, 1, 2, 3, 3, 3, 0, 2, 4, 2, 3, 3, 3, 2, 2, 4, 4]\n"
     ]
    }
   ],
   "source": [
    "#def initialize_heuristic(machinecount, jobcount)\n",
    "\n",
    "jobs = []\n",
    "machines = []\n",
    "for machine in range(machinecount):\n",
    "    machines.append(0)\n",
    "print(machines)\n",
    "ratio = int(jobcount/machinecount)\n",
    "\n",
    "for job in range(jobcount):\n",
    "    machine = random.randint(1,machinecount)\n",
    "    jobs.append(machine)\n",
    "    machines[machine-1] += 1\n",
    "    \n",
    "for machine in machines:\n",
    "    \n",
    "            \n",
    "print(jobs)        \n",
    "print(machines)    \n",
    "    \n",
    "\n",
    "        \n",
    "        \n",
    "    "
   ]
  }
 ],
 "metadata": {
  "kernelspec": {
   "display_name": "Python 3",
   "language": "python",
   "name": "python3"
  },
  "language_info": {
   "codemirror_mode": {
    "name": "ipython",
    "version": 3
   },
   "file_extension": ".py",
   "mimetype": "text/x-python",
   "name": "python",
   "nbconvert_exporter": "python",
   "pygments_lexer": "ipython3",
   "version": "3.7.1"
  }
 },
 "nbformat": 4,
 "nbformat_minor": 2
}
