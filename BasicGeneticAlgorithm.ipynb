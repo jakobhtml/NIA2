{
 "cells": [
  {
   "cell_type": "markdown",
   "metadata": {},
   "source": [
    "# Natural Algorithms Genetic algorithm\n"
   ]
  },
  {
   "cell_type": "code",
   "execution_count": 1,
   "metadata": {},
   "outputs": [],
   "source": [
    "import pandas as pd\n",
    "import numpy as np\n",
    "import random\n",
    "import csv"
   ]
  },
  {
   "cell_type": "markdown",
   "metadata": {},
   "source": [
    "# 1 Fitness function"
   ]
  },
  {
   "cell_type": "code",
   "execution_count": 2,
   "metadata": {},
   "outputs": [],
   "source": [
    "def getFitness(population, values):\n",
    "    fitnessofpopulation = []\n",
    "    runtimeofeverymachineinachromosome = []\n",
    "    for machine in range(machinecount):\n",
    "        runtimeofeverymachineinachromosome.append(0)\n",
    "   #for state in range(popsize):\n",
    "    #    fitnessofpopulation.append(0)\n",
    "    for state in population:\n",
    "        for machine in range(machinecount):\n",
    "            runtimeofeverymachineinachromosome[machine] = 0\n",
    "        for job in range(len(state)-1):\n",
    "            runtimeofeverymachineinachromosome[state[job]] -= int(values[job][0])\n",
    "        fitnessofpopulation.append(min(runtimeofeverymachineinachromosome))  \n",
    "    \n",
    "    correction = min(fitnessofpopulation)-1\n",
    "    index = 0\n",
    "    for fitness in fitnessofpopulation:\n",
    "        fitnessofpopulation[index] = fitness - correction\n",
    "        index+=1\n",
    "    return fitnessofpopulation"
   ]
  },
  {
   "cell_type": "code",
   "execution_count": 3,
   "metadata": {},
   "outputs": [
    {
     "ename": "NameError",
     "evalue": "name 'population' is not defined",
     "output_type": "error",
     "traceback": [
      "\u001b[1;31m---------------------------------------------------------------------------\u001b[0m",
      "\u001b[1;31mNameError\u001b[0m                                 Traceback (most recent call last)",
      "\u001b[1;32m<ipython-input-3-6964407da198>\u001b[0m in \u001b[0;36m<module>\u001b[1;34m\u001b[0m\n\u001b[1;32m----> 1\u001b[1;33m \u001b[0mgetFitness\u001b[0m\u001b[1;33m(\u001b[0m\u001b[0mpopulation\u001b[0m\u001b[1;33m,\u001b[0m \u001b[0mvalues\u001b[0m\u001b[1;33m)\u001b[0m\u001b[1;33m\u001b[0m\u001b[1;33m\u001b[0m\u001b[0m\n\u001b[0m",
      "\u001b[1;31mNameError\u001b[0m: name 'population' is not defined"
     ]
    }
   ],
   "source": [
    "getFitness(population, values)"
   ]
  },
  {
   "cell_type": "markdown",
   "metadata": {},
   "source": [
    "# 2 Initializer"
   ]
  },
  {
   "cell_type": "code",
   "execution_count": 4,
   "metadata": {
    "scrolled": false
   },
   "outputs": [],
   "source": [
    "# This method initializes a population with random chromosomes\n",
    "\n",
    "def initialize_random(machinecount, jobcount):\n",
    "    population = []\n",
    "    for chromosome in range(popsize):\n",
    "        # initialize empty list which represents the chromosome\n",
    "        jobs = []\n",
    "        # assign a random machine to each job    \n",
    "        for job in range(jobcount):\n",
    "            jobs.append(random.randint(0,machinecount-1))\n",
    "    \n",
    "        population.append(jobs)\n",
    "\n",
    "    return population"
   ]
  },
  {
   "cell_type": "markdown",
   "metadata": {},
   "source": [
    "## 2.1 Intialize heuristic"
   ]
  },
  {
   "cell_type": "code",
   "execution_count": null,
   "metadata": {
    "scrolled": true
   },
   "outputs": [],
   "source": [
    "# This method initializes a population with heuristic chromosomes\n",
    "# For every chromosome: We use the ratio between jobs/machines to assign every machine to a nearly identical number of jobs.\n",
    "# If we assume that all jobs need the same processing time, this would already yield a nearly perfect solution.\n",
    "\n",
    "def initialize_heuristic(machinecount, jobcount):\n",
    "    population = []\n",
    "\n",
    "    for chromosome in range(popsize):\n",
    "        jobs = []\n",
    "        machines = []\n",
    "        not_heuristic = True\n",
    "\n",
    "        #create list that serves to count how many jobs a machine is assigned to\n",
    "        for machine in range(machinecount):\n",
    "            machines.append(0)\n",
    "    \n",
    "        ratio = int(jobcount/machinecount)\n",
    "\n",
    "        #assign a random machine to each job and count how often each machine is assigned\n",
    "        for job in range(jobcount):\n",
    "            machine = random.randint(0,machinecount-1)\n",
    "            jobs.append(machine)\n",
    "            machines[machine] += 1\n",
    "\n",
    "        #change the machine assignment such that every machine is assigned a nearly identical number of jobs\n",
    "        while not_heuristic:\n",
    "            #i is used to count machines that dont have enough jobs assigned to them, given by the ratio\n",
    "            i = 0\n",
    "            #used as machine index\n",
    "            machine = 0\n",
    "    \n",
    "            #check for every machine\n",
    "            for counter in machines:\n",
    "                #if it has enough jobs assigned, given by the ratio\n",
    "                if counter < ratio:\n",
    "                    #if it doesnt, we assign it to one more random job \n",
    "                    jobs[random.randint(0,jobcount-1)] = machine\n",
    "                    i += 1     \n",
    "                machine += 1\n",
    "        \n",
    "            #empty the counter list    \n",
    "            machines.clear()\n",
    "            for machine in range(machinecount):\n",
    "                machines.append(0)\n",
    "    \n",
    "            #count again how often each machine is assigned \n",
    "            for job in jobs:\n",
    "                machines[job] += 1\n",
    "    \n",
    "            #stop if there are no more machines that dont have enough jobs\n",
    "            if i == 0:    \n",
    "                not_heuristic = False \n",
    "    \n",
    "        population.append(jobs)\n",
    "\n",
    "    return population     \n",
    "        \n",
    "\n",
    "#population = initialize_heuristic(machinecount, jobcount, popsize)"
   ]
  },
  {
   "cell_type": "markdown",
   "metadata": {},
   "source": [
    "# 3 Selection"
   ]
  },
  {
   "cell_type": "code",
   "execution_count": null,
   "metadata": {},
   "outputs": [],
   "source": [
    "def fitness_proportionate(population):\n",
    "    probabilityList = []\n",
    "    fitnessList = getFitness(population, values)\n",
    "    comulatedFit = sum(fitnessList)\n",
    "    for fitness in fitnessList:\n",
    "        #print(fitness)\n",
    "        probabilityList.append((fitness/comulatedFit))\n",
    "    print(probabilityList)\n",
    "    comulatedProb = sum(probabilityList)\n",
    "    print(comulatedProb)\n",
    "    return population[int(np.random.choice(popsize, 1, probabilityList))]"
   ]
  },
  {
   "cell_type": "code",
   "execution_count": null,
   "metadata": {},
   "outputs": [],
   "source": [
    "print(fitness_proportionate(population))"
   ]
  },
  {
   "cell_type": "code",
   "execution_count": null,
   "metadata": {},
   "outputs": [],
   "source": [
    "def truncated(population, s):\n",
    "    fitnessList = getFitness(population, values)\n",
    "    #print(fitnessList)\n",
    "    matingPool = []\n",
    "    for run in range(int(popsize/s)):\n",
    "        fittest = fitnessList.index(max(fitnessList))\n",
    "        for i in range(s):\n",
    "            matingPool.append(population[fittest])\n",
    "        fitnessList[fittest] = 0\n",
    "    return matingPool\n",
    "        \n",
    "        "
   ]
  },
  {
   "cell_type": "code",
   "execution_count": null,
   "metadata": {},
   "outputs": [],
   "source": [
    "print(truncated(population, 5))"
   ]
  },
  {
   "cell_type": "code",
   "execution_count": null,
   "metadata": {},
   "outputs": [],
   "source": [
    "def tournament(population, s):\n",
    "    chosenStates = []\n",
    "    chosenNum = np.random.choice(popsize, s)\n",
    "    for num in chosenNum:\n",
    "        chosenStates.append(population[num])\n",
    "    fittest = getFitness(chosenStates, values).index(max(getFitness(chosenStates, values)))\n",
    "    #print(fittest)\n",
    "    \n",
    "    \n",
    "    #print(chosenNum)\n",
    "    return chosenStates[fittest]"
   ]
  },
  {
   "cell_type": "code",
   "execution_count": null,
   "metadata": {},
   "outputs": [],
   "source": [
    "print(tournament(population, 5))"
   ]
  },
  {
   "cell_type": "markdown",
   "metadata": {},
   "source": [
    "# 4 Recombination Algorithms"
   ]
  },
  {
   "cell_type": "code",
   "execution_count": null,
   "metadata": {},
   "outputs": [],
   "source": [
    "def recombine(population, method):\n",
    "    \"\"\"Calls wanted recombine method\"\"\"\n",
    "    if method == 'k-point crossover':\n",
    "        result = kpoint(population)\n",
    "        \n",
    "    if method == 'uniform crossover':\n",
    "        result = uniformorderbased(population)\n",
    "        \n",
    "    return result"
   ]
  },
  {
   "cell_type": "markdown",
   "metadata": {},
   "source": [
    "## 4.1 k-point crossover"
   ]
  },
  {
   "cell_type": "code",
   "execution_count": null,
   "metadata": {},
   "outputs": [],
   "source": [
    "# k-point crossover\n",
    "\n",
    "def kpoint(population):\n",
    "    \n",
    "    # generating k\n",
    "    k = random.randint(1, len(population[0])-1)\n",
    "    \n",
    "    # generating crossover\n",
    "    crossover = []\n",
    "    for i in range(k):\n",
    "        crossover.append(random.randint(1, len(population[0])-1))\n",
    "\n",
    "    # Generating childs aka new population\n",
    "    result = []\n",
    "    switch = True\n",
    "    for parent in range(1, len(population), 2):\n",
    "        counter = 0\n",
    "        child1 = []\n",
    "        child2 = []\n",
    "        for elementp1, elementp2 in zip(population[parent - 1], population[parent]):\n",
    "            if switch:\n",
    "                child1.append(elementp1)\n",
    "                child2.append(elementp2)\n",
    "            else:\n",
    "                child1.append(elementp2)\n",
    "                child2.append(elementp1)\n",
    "            counter += 1\n",
    "            if counter in crossover:\n",
    "                switch^=True\n",
    "        result.append(child1)\n",
    "        result.append(child2)\n",
    "    \n",
    "    return result"
   ]
  },
  {
   "cell_type": "markdown",
   "metadata": {},
   "source": [
    "## 4.2 Uniform order based crossover"
   ]
  },
  {
   "cell_type": "code",
   "execution_count": null,
   "metadata": {},
   "outputs": [],
   "source": [
    "def uniformorderbased(population):\n",
    "    \n",
    "    # Generating Template\n",
    "    template = []\n",
    "    for i in range(len(population[0])):\n",
    "        template.append(random.randint(0, 1))\n",
    "\n",
    "    # Generating children aka new population\n",
    "    result = []\n",
    "    for parent in range(1, len(population), 2):\n",
    "        counter = 0\n",
    "        child1 = []\n",
    "        child2 = []\n",
    "        for elementp1, elementp2 in zip(population[parent - 1], population[parent]):\n",
    "            if template[counter] == 1:\n",
    "                child1.append(elementp1)\n",
    "                child2.append(elementp2)\n",
    "            else:\n",
    "                child1.append(elementp2)\n",
    "                child2.append(elementp1)\n",
    "            counter += 1\n",
    "\n",
    "        result.append(child1)\n",
    "        result.append(child2)\n",
    "    return result"
   ]
  },
  {
   "cell_type": "markdown",
   "metadata": {},
   "source": [
    "# 5 Mutation"
   ]
  },
  {
   "cell_type": "code",
   "execution_count": null,
   "metadata": {},
   "outputs": [],
   "source": [
    "def bitflip(state, machinecount):\n",
    "    i = 0\n",
    "    while i < len(state):\n",
    "        state[i] = random.randint(0, machinecount - 1)\n",
    "        i += 1\n",
    "    return state"
   ]
  },
  {
   "cell_type": "code",
   "execution_count": null,
   "metadata": {},
   "outputs": [],
   "source": [
    "def swap(state, m):\n",
    "    i = 0\n",
    "    while i < m:\n",
    "        index1 = random.randint(0, len(state)-1)\n",
    "        value1 = state[index1]\n",
    "        index2 = random.randint(0, len(state)-1)\n",
    "        value2 = state[index2]\n",
    "        state[index1] = value2\n",
    "        state[index2] = value1\n",
    "        i += 1\n",
    "    return state"
   ]
  },
  {
   "cell_type": "markdown",
   "metadata": {},
   "source": [
    "# 6 Replacement"
   ]
  },
  {
   "cell_type": "code",
   "execution_count": null,
   "metadata": {},
   "outputs": [],
   "source": [
    "def runtimecounter(dataList,machineCount,population):\n",
    "    subCount = 0\n",
    "    for i in range(0,len(population)):\n",
    "        # range(0,machinecount+1)\n",
    "        for j in range(1,10):\n",
    "            count = 0\n",
    "            for x in range(0,len(dataList)):\n",
    "                if j == population[i][x]:\n",
    "                    count = count + dataList[x]\n",
    "            if count > subCount:\n",
    "                subCount = count\n",
    "                identification = i\n",
    "                \n",
    "    return identification"
   ]
  },
  {
   "cell_type": "code",
   "execution_count": null,
   "metadata": {},
   "outputs": [],
   "source": [
    "# delete the worst chromosome\n",
    "def steadyState(population,offspring):\n",
    "    population.extend(offspring)\n",
    "    return population.remove(runtimecounter(dataList,machineCount,population))"
   ]
  },
  {
   "cell_type": "code",
   "execution_count": null,
   "metadata": {},
   "outputs": [],
   "source": [
    "def dellAll (population, offspring):\n",
    "    return offspring"
   ]
  },
  {
   "cell_type": "markdown",
   "metadata": {},
   "source": [
    "# 7 Main"
   ]
  },
  {
   "cell_type": "markdown",
   "metadata": {},
   "source": [
    "## 7.1 Eingabe"
   ]
  },
  {
   "cell_type": "code",
   "execution_count": null,
   "metadata": {},
   "outputs": [],
   "source": [
    "eingabe = input(\"Welche benchmark soll laufen? \")\n",
    "popsize = 20\n",
    "matingsize = 10 \n",
    "mutationprob = 0.1\n",
    "\n",
    "with open(eingabe + \".csv\") as f:\n",
    "    reader = csv.reader(f)\n",
    "    next(reader) # skip header\n",
    "    values = []\n",
    "    for row in reader:\n",
    "        values.append(row)\n",
    "\n",
    "eingabe = eingabe.split(\"_\")\n",
    "\n",
    "machinecount = int(eingabe[1])\n",
    "jobcount = int(eingabe[2])\n"
   ]
  },
  {
   "cell_type": "markdown",
   "metadata": {},
   "source": [
    "## 7.2 Pseudocode"
   ]
  },
  {
   "cell_type": "code",
   "execution_count": null,
   "metadata": {},
   "outputs": [],
   "source": [
    "population = initialize_random(machinecount, jobcount)\n",
    "i = 0\n",
    "while i < 100:\n",
    "    mating_pool = select(fitness_proportionate)\n",
    "    offspring = recombine(uniform crossover)\n",
    "    population = replace(population, offspring)\n",
    "    i += 1\n",
    "    \n",
    "while terminationcondition\n",
    "return best(population)"
   ]
  }
 ],
 "metadata": {
  "kernelspec": {
   "display_name": "Python 3",
   "language": "python",
   "name": "python3"
  },
  "language_info": {
   "codemirror_mode": {
    "name": "ipython",
    "version": 3
   },
   "file_extension": ".py",
   "mimetype": "text/x-python",
   "name": "python",
   "nbconvert_exporter": "python",
   "pygments_lexer": "ipython3",
   "version": "3.7.1"
  }
 },
 "nbformat": 4,
 "nbformat_minor": 2
}
