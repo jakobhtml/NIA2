{
 "cells": [
  {
   "cell_type": "markdown",
   "metadata": {},
   "source": [
    "# Natural Algorithms Genetic algorithm\n"
   ]
  },
  {
   "cell_type": "code",
   "execution_count": 1,
   "metadata": {},
   "outputs": [],
   "source": [
    "import pandas as pd\n",
    "import numpy as np\n",
    "import random\n",
    "import csv"
   ]
  },
  {
   "cell_type": "markdown",
   "metadata": {},
   "source": [
    "# 1 Main"
   ]
  },
  {
   "cell_type": "markdown",
   "metadata": {},
   "source": [
    "## 1.1 Eingabe"
   ]
  },
  {
   "cell_type": "code",
   "execution_count": 2,
   "metadata": {},
   "outputs": [
    {
     "name": "stdout",
     "output_type": "stream",
     "text": [
      "Welche benchmark soll laufen? benchmark1_20_300\n"
     ]
    }
   ],
   "source": [
    "eingabe = input(\"Welche benchmark soll laufen? \")\n",
    "\n",
    "with open(eingabe + \".csv\") as f:\n",
    "    reader = csv.reader(f)\n",
    "    next(reader) # skip header\n",
    "    values = []\n",
    "    for row in reader:\n",
    "        values.append(row)\n",
    "\n",
    "eingabe = eingabe.split(\"_\")\n",
    "\n",
    "machinecount = int(eingabe[1])\n",
    "jobcount = int(eingabe[2])\n"
   ]
  },
  {
   "cell_type": "markdown",
   "metadata": {},
   "source": [
    "## 1.2 Pseudocode"
   ]
  },
  {
   "cell_type": "code",
   "execution_count": 3,
   "metadata": {},
   "outputs": [
    {
     "ename": "SyntaxError",
     "evalue": "invalid syntax (<ipython-input-3-f078f01070a9>, line 7)",
     "output_type": "error",
     "traceback": [
      "\u001b[1;36m  File \u001b[1;32m\"<ipython-input-3-f078f01070a9>\"\u001b[1;36m, line \u001b[1;32m7\u001b[0m\n\u001b[1;33m    while terminationcondition\u001b[0m\n\u001b[1;37m                              ^\u001b[0m\n\u001b[1;31mSyntaxError\u001b[0m\u001b[1;31m:\u001b[0m invalid syntax\n"
     ]
    }
   ],
   "source": [
    "\n",
    "population = initialize()\n",
    "while terminationcondition:\n",
    "    mating_pool = population.select()\n",
    "    offspring = mating_pool.recombine()\n",
    "    population = replace(population, offspring)\n",
    "    \n",
    "while terminationcondition\n",
    "return best(population)"
   ]
  },
  {
   "cell_type": "markdown",
   "metadata": {},
   "source": [
    "## 1.3 Fitness function"
   ]
  },
  {
   "cell_type": "code",
   "execution_count": 1,
   "metadata": {},
   "outputs": [],
   "source": [
    "def getfitness(population, values):\n",
    "    \n",
    "    fittnessofpopulation = []\n",
    "    runtimeofeverymachineinachromosome = []\n",
    "    for state in population:\n",
    "        \n",
    "        for machine, job in zip(state, range(len(state))):\n",
    "            runtimeofeverymachineinachromosome[machine] += values[job]\n",
    "        \n",
    "        fittnessofpopulation.append(max(runtimeofeverymachineinachromosome))\n",
    "        \n",
    "    return fittnessofpopulation"
   ]
  },
  {
   "cell_type": "markdown",
   "metadata": {},
   "source": [
    "# 2 Initializer"
   ]
  },
  {
   "cell_type": "code",
   "execution_count": 6,
   "metadata": {
    "scrolled": false
   },
   "outputs": [
    {
     "name": "stdout",
     "output_type": "stream",
     "text": [
      "[[2, 7, 12, 5, 10, 12, 9, 3, 0, 16, 11, 9, 2, 0, 18, 10, 6, 6, 5, 0, 3, 5, 13, 0, 11, 9, 9, 9, 10, 5, 0, 18, 16, 11, 16, 4, 15, 2, 6, 16, 19, 6, 14, 19, 2, 16, 16, 17, 3, 5, 19, 11, 17, 12, 2, 13, 8, 0, 12, 9, 1, 19, 1, 12, 12, 19, 6, 12, 19, 19, 10, 2, 12, 17, 8, 12, 9, 8, 10, 17, 10, 12, 7, 19, 2, 7, 4, 15, 2, 0, 3, 1, 14, 2, 13, 9, 1, 6, 3, 4, 9, 15, 7, 13, 9, 18, 6, 17, 8, 9, 12, 1, 2, 19, 17, 13, 11, 9, 17, 16, 5, 15, 7, 13, 3, 1, 1, 8, 7, 7, 8, 10, 2, 4, 14, 9, 1, 9, 15, 5, 12, 14, 11, 4, 14, 4, 0, 12, 1, 10, 5, 2, 17, 15, 14, 6, 16, 12, 18, 1, 0, 12, 15, 2, 7, 18, 2, 3, 18, 15, 2, 14, 19, 0, 16, 1, 1, 10, 17, 12, 4, 16, 4, 0, 7, 1, 6, 12, 8, 1, 11, 11, 1, 1, 5, 12, 18, 13, 10, 7, 1, 9, 10, 5, 19, 8, 16, 1, 7, 1, 6, 1, 6, 13, 7, 2, 3, 17, 4, 5, 13, 7, 17, 15, 3, 6, 8, 18, 8, 7, 6, 6, 12, 0, 14, 0, 13, 7, 15, 16, 4, 17, 1, 17, 13, 14, 19, 4, 18, 5, 14, 16, 10, 12, 7, 9, 10, 18, 0, 16, 3, 11, 0, 7, 12, 5, 8, 15, 15, 16, 6, 19, 8, 12, 12, 11, 1, 10, 4, 0, 4, 9, 11, 13, 11, 18, 12, 13, 16, 10, 0, 19, 19, 11, 5, 2, 7, 19, 2, 7], [15, 16, 6, 11, 11, 8, 0, 10, 8, 17, 10, 19, 16, 9, 12, 6, 17, 13, 17, 19, 6, 10, 18, 16, 2, 15, 0, 19, 7, 19, 5, 19, 9, 14, 18, 18, 7, 16, 10, 7, 15, 15, 9, 8, 7, 16, 7, 18, 17, 2, 4, 13, 12, 13, 15, 13, 7, 2, 3, 16, 2, 2, 12, 12, 16, 10, 6, 10, 19, 12, 19, 12, 17, 11, 0, 19, 11, 5, 11, 18, 0, 11, 11, 16, 14, 9, 5, 16, 10, 12, 16, 1, 19, 1, 13, 3, 19, 6, 3, 6, 11, 18, 9, 8, 18, 18, 3, 17, 6, 14, 4, 17, 10, 19, 2, 14, 13, 7, 0, 2, 8, 10, 18, 17, 5, 9, 10, 3, 12, 17, 9, 5, 13, 9, 19, 1, 12, 1, 16, 17, 14, 3, 1, 14, 3, 18, 18, 9, 2, 5, 16, 6, 11, 17, 14, 1, 16, 2, 13, 11, 12, 15, 8, 0, 5, 14, 2, 4, 18, 10, 16, 8, 6, 2, 11, 8, 16, 6, 8, 8, 1, 2, 0, 19, 2, 14, 0, 8, 12, 15, 0, 11, 4, 8, 19, 8, 0, 14, 19, 10, 17, 2, 11, 3, 1, 15, 6, 1, 2, 12, 14, 6, 17, 8, 18, 2, 18, 13, 12, 13, 19, 10, 0, 4, 10, 4, 1, 14, 4, 18, 9, 14, 15, 18, 12, 8, 16, 7, 19, 18, 13, 4, 4, 4, 11, 13, 4, 7, 18, 2, 19, 16, 1, 2, 5, 18, 14, 18, 2, 6, 13, 19, 6, 8, 17, 7, 8, 11, 16, 9, 4, 2, 12, 8, 2, 5, 18, 9, 19, 3, 8, 1, 13, 13, 18, 8, 0, 9, 4, 18, 11, 8, 13, 10, 2, 11, 8, 2, 11, 1]]\n"
     ]
    }
   ],
   "source": [
    "# This method initializes a population with random chromosomes\n",
    "\n",
    "def initialize_random(machinecount, jobcount, popsize):\n",
    "    population = []\n",
    "    popsize = 2 \n",
    "    for chromosome in range(popsize):\n",
    "        # initialize empty list which represents the chromosome\n",
    "        jobs = []\n",
    "        # assign a random machine to each job    \n",
    "        for job in range(jobcount):\n",
    "            jobs.append(random.randint(0,machinecount-1))\n",
    "    \n",
    "        population.append(jobs)\n",
    "\n",
    "    return population\n",
    "\n",
    "\n",
    "\n",
    "population = initialize_random(machinecount, jobcount, 2)\n",
    "print(population)"
   ]
  },
  {
   "cell_type": "markdown",
   "metadata": {},
   "source": [
    "## 2.1 Intialize heuristic"
   ]
  },
  {
   "cell_type": "code",
   "execution_count": 7,
   "metadata": {
    "scrolled": true
   },
   "outputs": [
    {
     "name": "stdout",
     "output_type": "stream",
     "text": [
      "[[5, 10, 1, 10, 17, 17, 12, 7, 14, 0, 16, 6, 1, 6, 4, 4, 10, 2, 16, 14, 17, 9, 10, 14, 9, 3, 0, 2, 1, 18, 4, 7, 9, 19, 18, 2, 16, 13, 4, 7, 11, 15, 0, 14, 9, 10, 13, 3, 10, 5, 2, 2, 15, 8, 18, 14, 5, 17, 9, 1, 10, 15, 16, 5, 5, 1, 1, 0, 14, 3, 0, 14, 8, 0, 12, 3, 3, 5, 7, 2, 11, 4, 19, 9, 8, 13, 13, 10, 5, 9, 12, 2, 1, 1, 8, 11, 16, 17, 15, 1, 7, 12, 13, 13, 9, 14, 3, 7, 0, 17, 12, 3, 7, 6, 10, 19, 2, 18, 11, 6, 18, 19, 4, 13, 12, 6, 15, 16, 15, 11, 19, 4, 18, 15, 3, 14, 14, 5, 15, 5, 13, 17, 19, 3, 9, 19, 8, 11, 0, 0, 13, 4, 8, 7, 11, 0, 1, 7, 12, 5, 18, 1, 13, 10, 12, 4, 5, 0, 7, 2, 10, 5, 2, 14, 9, 11, 8, 19, 9, 3, 8, 3, 11, 6, 11, 4, 13, 6, 19, 9, 13, 6, 16, 18, 18, 12, 15, 7, 8, 7, 15, 5, 17, 1, 12, 14, 12, 10, 16, 8, 18, 17, 17, 18, 16, 19, 8, 19, 5, 15, 7, 9, 10, 15, 5, 0, 19, 3, 18, 7, 18, 3, 6, 4, 19, 1, 17, 17, 18, 8, 4, 16, 6, 2, 9, 13, 4, 16, 14, 4, 11, 19, 2, 3, 11, 12, 10, 12, 17, 0, 2, 13, 19, 16, 9, 16, 6, 6, 7, 16, 15, 2, 13, 4, 18, 11, 11, 6, 12, 17, 10, 3, 0, 1, 6, 12, 14, 8, 2, 6, 0, 8, 16, 15, 8, 1, 15, 17, 14, 11], [1, 14, 1, 1, 7, 3, 8, 9, 5, 17, 19, 17, 15, 4, 15, 5, 15, 1, 11, 14, 4, 9, 13, 17, 3, 2, 9, 15, 1, 5, 8, 18, 16, 18, 7, 14, 18, 10, 19, 2, 18, 13, 19, 3, 19, 4, 10, 8, 13, 11, 19, 2, 19, 12, 7, 13, 0, 12, 3, 10, 4, 9, 13, 5, 6, 0, 0, 11, 0, 13, 11, 1, 16, 3, 12, 4, 6, 5, 15, 9, 0, 18, 6, 17, 8, 12, 18, 2, 14, 12, 3, 6, 2, 5, 15, 16, 1, 17, 10, 1, 1, 5, 0, 14, 4, 17, 14, 7, 7, 13, 7, 12, 6, 4, 14, 9, 9, 19, 0, 9, 14, 1, 5, 17, 12, 18, 8, 1, 19, 17, 4, 17, 14, 4, 16, 6, 9, 13, 13, 10, 16, 0, 16, 16, 12, 3, 0, 10, 13, 9, 6, 18, 16, 6, 2, 0, 10, 19, 8, 3, 13, 2, 13, 5, 6, 11, 10, 0, 7, 5, 11, 8, 11, 13, 12, 8, 11, 5, 7, 4, 18, 6, 2, 2, 13, 11, 8, 8, 19, 2, 18, 9, 4, 11, 7, 14, 17, 17, 4, 16, 8, 18, 2, 14, 13, 19, 18, 7, 11, 10, 6, 11, 7, 10, 18, 2, 11, 15, 18, 8, 14, 19, 15, 19, 4, 15, 6, 16, 12, 7, 2, 5, 4, 18, 3, 1, 7, 12, 10, 8, 9, 3, 15, 0, 14, 19, 7, 10, 17, 10, 15, 8, 12, 11, 17, 2, 1, 15, 19, 16, 1, 0, 10, 9, 2, 5, 6, 5, 16, 3, 3, 10, 12, 6, 3, 12, 15, 7, 16, 16, 8, 3, 4, 11, 15, 9, 0, 0, 5, 3, 14, 1, 17, 16, 12, 9, 6, 15, 14, 17]]\n"
     ]
    }
   ],
   "source": [
    "# This method initializes a population with heuristic chromosomes\n",
    "# For every chromosome: We use the ratio between jobs/machines to assign every machine to a nearly identical number of jobs.\n",
    "# If we assume that all jobs need the same processing time, this would already yield a nearly perfect solution.\n",
    "\n",
    "def initialize_heuristic(machinecount, jobcount, popsize):\n",
    "    population = []\n",
    "\n",
    "    for chromosome in range(popsize):\n",
    "        jobs = []\n",
    "        machines = []\n",
    "        not_heuristic = True\n",
    "\n",
    "        #create list that serves to count how many jobs a machine is assigned to\n",
    "        for machine in range(machinecount):\n",
    "            machines.append(0)\n",
    "    \n",
    "        ratio = int(jobcount/machinecount)\n",
    "\n",
    "        #assign a random machine to each job and count how often each machine is assigned\n",
    "        for job in range(jobcount):\n",
    "            machine = random.randint(0,machinecount-1)\n",
    "            jobs.append(machine)\n",
    "            machines[machine] += 1\n",
    "\n",
    "        #change the machine assignment such that every machine is assigned a nearly identical number of jobs\n",
    "        while not_heuristic:\n",
    "            #i is used to count machines that dont have enough jobs assigned to them, given by the ratio\n",
    "            i = 0\n",
    "            #used as machine index\n",
    "            machine = 0\n",
    "    \n",
    "            #check for every machine\n",
    "            for counter in machines:\n",
    "                #if it has enough jobs assigned, given by the ratio\n",
    "                if counter < ratio:\n",
    "                    #if it doesnt, we assign it to one more random job \n",
    "                    jobs[random.randint(0,jobcount-1)] = machine\n",
    "                    i += 1     \n",
    "                machine += 1\n",
    "        \n",
    "            #empty the counter list    \n",
    "            machines.clear()\n",
    "            for machine in range(machinecount):\n",
    "                machines.append(0)\n",
    "    \n",
    "            #count again how often each machine is assigned \n",
    "            for job in jobs:\n",
    "                machines[job] += 1\n",
    "    \n",
    "            #stop if there are no more machines that dont have enough jobs\n",
    "            if i == 0:    \n",
    "                not_heuristic = False \n",
    "    \n",
    "        population.append(jobs)\n",
    "\n",
    "    return population     \n",
    "        \n",
    "\n",
    "population = initialize_heuristic(machinecount, jobcount, 2)\n",
    "print(population)"
   ]
  },
  {
   "cell_type": "markdown",
   "metadata": {},
   "source": [
    "# 3 Recombination Algorithms"
   ]
  },
  {
   "cell_type": "code",
   "execution_count": null,
   "metadata": {},
   "outputs": [],
   "source": [
    "def recombine(population, method):\n",
    "    \"\"\"Calls wanted recombine method\"\"\"\n",
    "    if method == 'k-point crossover':\n",
    "        result = kpoint(population)\n",
    "        \n",
    "    if method == 'uniform crossover':\n",
    "        result = uniformorderbased(population)\n",
    "        \n",
    "    return result"
   ]
  },
  {
   "cell_type": "markdown",
   "metadata": {},
   "source": [
    "## 3.1 k-point crossover"
   ]
  },
  {
   "cell_type": "code",
   "execution_count": null,
   "metadata": {},
   "outputs": [],
   "source": [
    "# k-point crossover\n",
    "\n",
    "def kpoint(population):\n",
    "    \n",
    "    # generating k\n",
    "    k = random.randint(1, len(population[0])-1)\n",
    "    \n",
    "    # generating crossover\n",
    "    crossover = []\n",
    "    for i in range(k):\n",
    "        crossover.append(random.randint(1, len(population[0])-1))\n",
    "\n",
    "    # Generating childs aka new population\n",
    "    result = []\n",
    "    switch = True\n",
    "    for parent in range(1, len(population), 2):\n",
    "        counter = 0\n",
    "        child1 = []\n",
    "        child2 = []\n",
    "        for elementp1, elementp2 in zip(population[parent - 1], population[parent]):\n",
    "            if switch:\n",
    "                child1.append(elementp1)\n",
    "                child2.append(elementp2)\n",
    "            else:\n",
    "                child1.append(elementp2)\n",
    "                child2.append(elementp1)\n",
    "            counter += 1\n",
    "            if counter in crossover:\n",
    "                switch^=True\n",
    "        result.append(child1)\n",
    "        result.append(child2)\n",
    "    \n",
    "    return result"
   ]
  },
  {
   "cell_type": "markdown",
   "metadata": {},
   "source": [
    "## 3.2 Uniform order based crossover"
   ]
  },
  {
   "cell_type": "code",
   "execution_count": null,
   "metadata": {},
   "outputs": [],
   "source": [
    "def uniformorderbased(population):\n",
    "    \n",
    "    # Generating Template\n",
    "    template = []\n",
    "    for i in range(len(population[0])):\n",
    "        template.append(random.randint(0, 1))\n",
    "\n",
    "    # Generating children aka new population\n",
    "    result = []\n",
    "    for parent in range(1, len(population), 2):\n",
    "        counter = 0\n",
    "        child1 = []\n",
    "        child2 = []\n",
    "        for elementp1, elementp2 in zip(population[parent - 1], population[parent]):\n",
    "            if template[counter] == 1:\n",
    "                child1.append(elementp1)\n",
    "                child2.append(elementp2)\n",
    "            else:\n",
    "                child1.append(elementp2)\n",
    "                child2.append(elementp1)\n",
    "            counter += 1\n",
    "\n",
    "        result.append(child1)\n",
    "        result.append(child2)\n",
    "    return result"
   ]
  }
 ],
 "metadata": {
  "kernelspec": {
   "display_name": "Python 3",
   "language": "python",
   "name": "python3"
  },
  "language_info": {
   "codemirror_mode": {
    "name": "ipython",
    "version": 3
   },
   "file_extension": ".py",
   "mimetype": "text/x-python",
   "name": "python",
   "nbconvert_exporter": "python",
   "pygments_lexer": "ipython3",
   "version": "3.7.3"
  }
 },
 "nbformat": 4,
 "nbformat_minor": 2
}
